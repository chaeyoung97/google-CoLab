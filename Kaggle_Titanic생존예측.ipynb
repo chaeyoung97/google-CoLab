{
  "nbformat": 4,
  "nbformat_minor": 0,
  "metadata": {
    "colab": {
      "name": "Kaggle_Titanic생존예측",
      "provenance": [],
      "private_outputs": true,
      "collapsed_sections": [],
      "machine_shape": "hm",
      "mount_file_id": "1xPz_xeQcSAprWUgy2OnWLI93E26CRZwb",
      "authorship_tag": "ABX9TyPVjhdZk4t0UfHLisMv0wXd",
      "include_colab_link": true
    },
    "kernelspec": {
      "name": "python3",
      "display_name": "Python 3"
    },
    "accelerator": "GPU"
  },
  "cells": [
    {
      "cell_type": "markdown",
      "metadata": {
        "id": "view-in-github",
        "colab_type": "text"
      },
      "source": [
        "<a href=\"https://colab.research.google.com/github/chaeyoung97/google-CoLab/blob/master/Kaggle_Titanic%EC%83%9D%EC%A1%B4%EC%98%88%EC%B8%A1.ipynb\" target=\"_parent\"><img src=\"https://colab.research.google.com/assets/colab-badge.svg\" alt=\"Open In Colab\"/></a>"
      ]
    },
    {
      "cell_type": "markdown",
      "metadata": {
        "id": "FLwmSVPeg7Rl",
        "colab_type": "text"
      },
      "source": [
        "# Binary Classification\n",
        "- Titanic 탑승자 생존 유무를 예측"
      ]
    },
    {
      "cell_type": "code",
      "metadata": {
        "id": "p6kLjS27dK_e",
        "colab_type": "code",
        "colab": {}
      },
      "source": [
        "from google.colab import drive\n",
        "drive.mount('/gdrive')"
      ],
      "execution_count": 0,
      "outputs": []
    },
    {
      "cell_type": "code",
      "metadata": {
        "id": "jgfJVxgYd2Eq",
        "colab_type": "code",
        "colab": {}
      },
      "source": [
        "import numpy as np\n",
        "import pandas as pd\n",
        "import random as rnd\n",
        "import matplotlib.pyplot as plt\n",
        "%matplotlib inline\n",
        "\n",
        "from sklearn.linear_model import LogisticRegression\n",
        "from sklearn.svm import SVC, LinearSVC\n",
        "from sklearn.ensemble import RandomForestClassifier\n",
        "from sklearn.neighbors import KNeighborsClassifier\n",
        "from sklearn.naive_bayes import GaussianNB\n",
        "from sklearn.linear_model import Perceptron\n",
        "from sklearn.linear_model import SGDClassifier\n",
        "from sklearn.tree import DecisionTreeClassifier\n",
        "from keras import Sequential\n",
        "from keras.layers import Dense, Activation "
      ],
      "execution_count": 0,
      "outputs": []
    },
    {
      "cell_type": "markdown",
      "metadata": {
        "id": "glrUSbwofLku",
        "colab_type": "text"
      },
      "source": [
        "#Data 불러오기 & Data Summary"
      ]
    },
    {
      "cell_type": "code",
      "metadata": {
        "id": "QLZGl-vRfNa4",
        "colab_type": "code",
        "colab": {}
      },
      "source": [
        "train = pd.read_csv('/content/drive/My Drive/titanic_data/train.csv')\n",
        "test = pd.read_csv('/content/drive/My Drive/titanic_data/test.csv')\n",
        "train_copy = train.copy()\n",
        "test_id = test.copy()\n",
        "test_id = test_id[[\"PassengerId\"]]"
      ],
      "execution_count": 0,
      "outputs": []
    },
    {
      "cell_type": "code",
      "metadata": {
        "id": "CVTg4SNlfulD",
        "colab_type": "code",
        "colab": {}
      },
      "source": [
        "train.head(2)"
      ],
      "execution_count": 0,
      "outputs": []
    },
    {
      "cell_type": "code",
      "metadata": {
        "id": "i-xdywzSgA4e",
        "colab_type": "code",
        "colab": {}
      },
      "source": [
        "test.head(2)"
      ],
      "execution_count": 0,
      "outputs": []
    },
    {
      "cell_type": "code",
      "metadata": {
        "id": "Izk0cg4DgDGI",
        "colab_type": "code",
        "colab": {}
      },
      "source": [
        "train.describe(include=\"all\")"
      ],
      "execution_count": 0,
      "outputs": []
    },
    {
      "cell_type": "markdown",
      "metadata": {
        "id": "JpDalwBchKt8",
        "colab_type": "text"
      },
      "source": [
        "- Name 의 경우 count == unique 이므로 중복되는 값이 없음\n",
        "- Age 의경우 count = 714 로 missing value가 있음\n",
        "- Cabin 의 경우 count = 204 unique= 147 이므로 한 캐비넷을 여러명이서 사용함을 알 수 있음\n",
        "- Embarked 의 경우 count = 889 로 missing value가 있고,  S를 가장 많이 이용함\n",
        "- Male 이 이 배에 더 많이 탐\n"
      ]
    },
    {
      "cell_type": "code",
      "metadata": {
        "id": "WX5u9CqyEZoI",
        "colab_type": "code",
        "colab": {}
      },
      "source": [
        "test.describe(include=\"all\")"
      ],
      "execution_count": 0,
      "outputs": []
    },
    {
      "cell_type": "code",
      "metadata": {
        "id": "DYWv7MRzi6BI",
        "colab_type": "code",
        "colab": {}
      },
      "source": [
        "train.info()"
      ],
      "execution_count": 0,
      "outputs": []
    },
    {
      "cell_type": "code",
      "metadata": {
        "id": "eJqAyFVrgUBA",
        "colab_type": "code",
        "colab": {}
      },
      "source": [
        "print('train.shape: ', train.shape)\n",
        "print('test.shape: ', test.shape)"
      ],
      "execution_count": 0,
      "outputs": []
    },
    {
      "cell_type": "code",
      "metadata": {
        "id": "3I97YyFJAkSg",
        "colab_type": "code",
        "colab": {}
      },
      "source": [
        "train['Fare']"
      ],
      "execution_count": 0,
      "outputs": []
    },
    {
      "cell_type": "markdown",
      "metadata": {
        "id": "bufdrtusrRrJ",
        "colab_type": "text"
      },
      "source": [
        "# Passenger ID 와 Ticket은 필요없음 삭제"
      ]
    },
    {
      "cell_type": "code",
      "metadata": {
        "id": "OZBgfKW-rd2E",
        "colab_type": "code",
        "colab": {}
      },
      "source": [
        "train = train.drop(['PassengerId', 'Ticket'], axis = 1)\n",
        "test = test.drop(['PassengerId', 'Ticket'], axis = 1)"
      ],
      "execution_count": 0,
      "outputs": []
    },
    {
      "cell_type": "code",
      "metadata": {
        "id": "KD-ZIffsrrCj",
        "colab_type": "code",
        "colab": {}
      },
      "source": [
        "print('train.shape: ', train.shape)\n",
        "print('test.shape: ', test.shape)"
      ],
      "execution_count": 0,
      "outputs": []
    },
    {
      "cell_type": "markdown",
      "metadata": {
        "id": "vDbjmJnrgUba",
        "colab_type": "text"
      },
      "source": [
        "# Missing Value 처리하기"
      ]
    },
    {
      "cell_type": "code",
      "metadata": {
        "id": "-bgFZLHygW9R",
        "colab_type": "code",
        "colab": {}
      },
      "source": [
        "def missing_value(df):\n",
        "    total = df.isnull().sum().sort_values(ascending=False)\n",
        "    missing_value = pd.concat([total], axis = 1, keys= ['Missing_Value_Count'])\n",
        "    return missing_value"
      ],
      "execution_count": 0,
      "outputs": []
    },
    {
      "cell_type": "code",
      "metadata": {
        "id": "8NQIBh-ODfEd",
        "colab_type": "code",
        "colab": {}
      },
      "source": [
        "missing_value(train)"
      ],
      "execution_count": 0,
      "outputs": []
    },
    {
      "cell_type": "code",
      "metadata": {
        "id": "AOg7oM7tgW6W",
        "colab_type": "code",
        "colab": {}
      },
      "source": [
        "missing_value(test)"
      ],
      "execution_count": 0,
      "outputs": []
    },
    {
      "cell_type": "markdown",
      "metadata": {
        "id": "eXDg_Jy2hTjF",
        "colab_type": "text"
      },
      "source": [
        "- Cabin은 사용/미사용으로 분류가능함으로 값이 없으면 사용하지 않음= 0 , 값이 있으면 사용함 =1으로 분류\n",
        "- Age\n",
        "- Embarked는 가장 많이 이용된 S 로 값을 채우기 가능\n",
        "- Fare도 중앙값으로 채움"
      ]
    },
    {
      "cell_type": "code",
      "metadata": {
        "id": "bsbl5Bf-mMga",
        "colab_type": "code",
        "colab": {}
      },
      "source": [
        "# Cabin 의 missing_value를  X 로 채움\n",
        "train[\"Cabin\"] = pd.Series([i[0] if not pd.isnull(i) else 'X' for i in train['Cabin']])\n",
        "test[\"Cabin\"] = pd.Series([i[0] if not pd.isnull(i) else 'X' for i in test['Cabin']])"
      ],
      "execution_count": 0,
      "outputs": []
    },
    {
      "cell_type": "code",
      "metadata": {
        "id": "ABTbK3Mjig8J",
        "colab_type": "code",
        "colab": {}
      },
      "source": [
        "train[['Cabin', 'Survived']].groupby(['Cabin'], as_index = False).mean().sort_values(by=\"Survived\", ascending = False)"
      ],
      "execution_count": 0,
      "outputs": []
    },
    {
      "cell_type": "code",
      "metadata": {
        "id": "i5Z7AhyOEGFX",
        "colab_type": "code",
        "colab": {}
      },
      "source": [
        "# Embarked 의 missing_value 를 S로 채움\n",
        "train['Embarked'].fillna('S', inplace = True)"
      ],
      "execution_count": 0,
      "outputs": []
    },
    {
      "cell_type": "code",
      "metadata": {
        "id": "enHlxMHUFm7w",
        "colab_type": "code",
        "colab": {}
      },
      "source": [
        "# Fare 의 missing_Value 를 중앙값으로 채움\n",
        "test['Fare'].fillna(test['Fare'].median(), inplace = True)"
      ],
      "execution_count": 0,
      "outputs": []
    },
    {
      "cell_type": "code",
      "metadata": {
        "id": "_mmIqbFDJx1v",
        "colab_type": "code",
        "colab": {}
      },
      "source": [
        "# Age는 여러 특징들을 고려하여 비슷한 특징을 같는 값들의 중앙값으로 채우기\n",
        "# Pclass Parch Sibsp Fare를 이용하기\n",
        "\n",
        "def fill_missing_age(df):\n",
        "    missing_age_idx = list(df[\"Age\"][df['Age'].isnull()].index)\n",
        "\n",
        "    for i in missing_age_idx:\n",
        "        median = df[\"Age\"].median()\n",
        "        predict = df[\"Age\"][(   (df[\"Pclass\"] == df.iloc[i][\"Pclass\"]) &\n",
        "                                (df[\"Parch\"] == df.iloc[i][\"Parch\"]) &\n",
        "                                (df['SibSp'] == df.iloc[i][\"SibSp\"]) &\n",
        "                                (df[\"Fare\"] == df.iloc[i][\"Fare\"])   )].median()\n",
        "        if not np.isnan(predict):\n",
        "            df[\"Age\"].iloc[i] = predict\n",
        "        else:\n",
        "            df[\"Age\"].iloc[i] = median\n",
        "                        "
      ],
      "execution_count": 0,
      "outputs": []
    },
    {
      "cell_type": "code",
      "metadata": {
        "id": "n9dhBHo9kpew",
        "colab_type": "code",
        "colab": {}
      },
      "source": [
        "fill_missing_age(train)\n",
        "fill_missing_age(test)"
      ],
      "execution_count": 0,
      "outputs": []
    },
    {
      "cell_type": "code",
      "metadata": {
        "id": "aHuIwsHok8Ho",
        "colab_type": "code",
        "colab": {}
      },
      "source": [
        "missing_value(test)"
      ],
      "execution_count": 0,
      "outputs": []
    },
    {
      "cell_type": "markdown",
      "metadata": {
        "id": "_SpKYYBrk-I8",
        "colab_type": "text"
      },
      "source": [
        "# Data 처리"
      ]
    },
    {
      "cell_type": "markdown",
      "metadata": {
        "id": "XOfK30BLlZ7E",
        "colab_type": "text"
      },
      "source": [
        "1.Embarked"
      ]
    },
    {
      "cell_type": "code",
      "metadata": {
        "id": "yQmaJQcLlTa5",
        "colab_type": "code",
        "colab": {}
      },
      "source": [
        "def setEmbarked(df):\n",
        "    df[\"Embarked\"] = df[\"Embarked\"].map ({ \"S\": 0, \"C\": 1, \"Q\": 2}).astype(int)"
      ],
      "execution_count": 0,
      "outputs": []
    },
    {
      "cell_type": "code",
      "metadata": {
        "id": "VUHwXoL-lzIX",
        "colab_type": "code",
        "colab": {}
      },
      "source": [
        "setEmbarked(train)\n",
        "setEmbarked(test)"
      ],
      "execution_count": 0,
      "outputs": []
    },
    {
      "cell_type": "markdown",
      "metadata": {
        "id": "5OrsYjzPmBYA",
        "colab_type": "text"
      },
      "source": [
        "2.Cabin"
      ]
    },
    {
      "cell_type": "code",
      "metadata": {
        "id": "Y0-fv6mOly8A",
        "colab_type": "code",
        "colab": {}
      },
      "source": [
        "def setCabin(df):\n",
        "    df[\"Cabin\"] = df[\"Cabin\"].map(\n",
        "        {\"A\":1, \"B\":1, \"C\":1, \"D\":1, \"E\":1, \"F\": 1, \"G\":1, \"T\":1, \"X\": 0}).astype(int)"
      ],
      "execution_count": 0,
      "outputs": []
    },
    {
      "cell_type": "code",
      "metadata": {
        "id": "gve4yzMBnBnO",
        "colab_type": "code",
        "colab": {}
      },
      "source": [
        "setCabin(train)\n",
        "setCabin(test)"
      ],
      "execution_count": 0,
      "outputs": []
    },
    {
      "cell_type": "markdown",
      "metadata": {
        "id": "yFB6moKInLyD",
        "colab_type": "text"
      },
      "source": [
        "3.Sex"
      ]
    },
    {
      "cell_type": "code",
      "metadata": {
        "id": "zLiNMi1enIQc",
        "colab_type": "code",
        "colab": {}
      },
      "source": [
        "def setSex(df):\n",
        "    df[\"Sex\"] = df[\"Sex\"].map({\"male\":0, \"female\": 1})"
      ],
      "execution_count": 0,
      "outputs": []
    },
    {
      "cell_type": "code",
      "metadata": {
        "id": "SfF5IA7DnIMq",
        "colab_type": "code",
        "colab": {}
      },
      "source": [
        "setSex(train)\n",
        "setSex(test)"
      ],
      "execution_count": 0,
      "outputs": []
    },
    {
      "cell_type": "markdown",
      "metadata": {
        "id": "jZs1Zz8AoGgV",
        "colab_type": "text"
      },
      "source": [
        "4.Name"
      ]
    },
    {
      "cell_type": "code",
      "metadata": {
        "id": "Qv4yyVDC3rJ3",
        "colab_type": "code",
        "colab": {}
      },
      "source": [
        "for i in train_copy:\n",
        "        train_copy[\"Title\"] = train_copy.Name.str.extract(' ([A-Za-z]+)\\.', expand = False) \n",
        "pd.crosstab(train_copy['Title'], train_copy['Sex'])\n"
      ],
      "execution_count": 0,
      "outputs": []
    },
    {
      "cell_type": "code",
      "metadata": {
        "id": "RaGWeGB_oGOc",
        "colab_type": "code",
        "colab": {}
      },
      "source": [
        "\n",
        "def setName(df):\n",
        "    for i in df:\n",
        "        df[\"Title\"] = df.Name.str.extract(' ([A-Za-z]+)\\.', expand = False)\n",
        "\n",
        "    df[\"Title\"] = df[\"Title\"].replace(['Lady', \"Countess\", \"Capt\", \"Col\", \"Don\", \"Dr\", \"Major\",\"Rev\", \"Sir\", \"Jonkheer\", \"Dona\"] , \"None\")\n",
        "    df[\"Title\"] = df[\"Title\"].map({\"Mr\":0, \"Miss\":1, \"Ms\":1, \"Mme\":1, \"Mlle\":1, \"Mrs\":1, \"Master\":2, \"None\":3})\n",
        "    df[\"Title\"] = df[\"Title\"].astype(int)\n"
      ],
      "execution_count": 0,
      "outputs": []
    },
    {
      "cell_type": "code",
      "metadata": {
        "id": "QLHA8roznIK_",
        "colab_type": "code",
        "colab": {}
      },
      "source": [
        "setName(train)\n",
        "setName(test)\n",
        "train = train.drop(['Name'], axis = 1)\n",
        "test = test.drop(['Name'], axis = 1)"
      ],
      "execution_count": 0,
      "outputs": []
    },
    {
      "cell_type": "code",
      "metadata": {
        "id": "0ExeiZhD4PmH",
        "colab_type": "code",
        "colab": {}
      },
      "source": [
        "pd.crosstab(train['Title'], train['Sex'])"
      ],
      "execution_count": 0,
      "outputs": []
    },
    {
      "cell_type": "markdown",
      "metadata": {
        "id": "w2twBnW37b5C",
        "colab_type": "text"
      },
      "source": [
        "5.Parch & SibSp\n",
        "- 부모자식관계, 배우자관계가 예측에 영향 줄 수도 있으니 냅둔다\n",
        "- 가족사이즈를 추가\n",
        "- 혼자탔는지의 유무도 추가"
      ]
    },
    {
      "cell_type": "code",
      "metadata": {
        "id": "z-F_jVZu6l_W",
        "colab_type": "code",
        "colab": {}
      },
      "source": [
        "def familySet(df):\n",
        "    df[\"Family\"] = df[\"SibSp\"] + df[\"Parch\"] + 1\n",
        "    df[\"Alone\"] = 0\n",
        "    df.loc[df[\"Family\"]==1, \"Alone\"] = 1"
      ],
      "execution_count": 0,
      "outputs": []
    },
    {
      "cell_type": "code",
      "metadata": {
        "id": "c3zkUnFs8syY",
        "colab_type": "code",
        "colab": {}
      },
      "source": [
        "familySet(train)\n",
        "familySet(test)"
      ],
      "execution_count": 0,
      "outputs": []
    },
    {
      "cell_type": "code",
      "metadata": {
        "id": "7La_FZu08v5O",
        "colab_type": "code",
        "colab": {}
      },
      "source": [
        "# SibSp > Parch인 경우 SibSp < Parch인 경우보다 생존확률이 더 낮아짐\n",
        "train[['Family',\"SibSp\",\"Parch\", 'Survived']].groupby(['Family'], as_index=False).mean().sort_values(by='Survived', ascending=False)"
      ],
      "execution_count": 0,
      "outputs": []
    },
    {
      "cell_type": "code",
      "metadata": {
        "id": "SCBBfs18-cyC",
        "colab_type": "code",
        "colab": {}
      },
      "source": [
        "train.head()"
      ],
      "execution_count": 0,
      "outputs": []
    },
    {
      "cell_type": "markdown",
      "metadata": {
        "id": "gaFMwXiOE6V5",
        "colab_type": "text"
      },
      "source": [
        "6.Age\n"
      ]
    },
    {
      "cell_type": "code",
      "metadata": {
        "id": "ilpTR-bQUqCr",
        "colab_type": "code",
        "colab": {}
      },
      "source": [
        "train['Age_Range'] = pd.cut(train['Age'], 8)"
      ],
      "execution_count": 0,
      "outputs": []
    },
    {
      "cell_type": "code",
      "metadata": {
        "id": "qDB0na6iW5Iu",
        "colab_type": "code",
        "colab": {}
      },
      "source": [
        "train[['Age_Range', 'Survived']].groupby(['Age_Range'], as_index=False).mean().sort_values(by='Age_Range', ascending=True)\n"
      ],
      "execution_count": 0,
      "outputs": []
    },
    {
      "cell_type": "code",
      "metadata": {
        "id": "RRnNlV1gYs3u",
        "colab_type": "code",
        "colab": {}
      },
      "source": [
        "def setAge(df):  \n",
        "    df.loc[ df['Age'] <= 10.368, 'Age'] = 0\n",
        "    df.loc[(df['Age'] > 10.368) & (df['Age'] <= 20.315), 'Age'] = 1\n",
        "    df.loc[(df['Age'] > 20.315) & (df['Age'] <= 30.263), 'Age'] = 2\n",
        "    df.loc[(df['Age'] > 30.263) & (df['Age'] <= 40.21), 'Age'] = 3\n",
        "    df.loc[(df['Age'] > 40.21) & (df['Age'] <= 50.158), 'Age'] = 4\n",
        "    df.loc[(df['Age'] > 50.158) & (df['Age'] <= 60.105), 'Age'] = 5\n",
        "    df.loc[(df['Age'] >60.105) & (df['Age'] <= 70.052), 'Age'] = 6\n",
        "    df.loc[ df['Age'] > 70.052, 'Age'] = 7\n",
        "    "
      ],
      "execution_count": 0,
      "outputs": []
    },
    {
      "cell_type": "code",
      "metadata": {
        "id": "1hj8hVxFZ5Xm",
        "colab_type": "code",
        "colab": {}
      },
      "source": [
        "setAge(train)\n",
        "setAge(test)"
      ],
      "execution_count": 0,
      "outputs": []
    },
    {
      "cell_type": "code",
      "metadata": {
        "id": "EzBv5go1Z_jQ",
        "colab_type": "code",
        "colab": {}
      },
      "source": [
        "train=train.drop(['Age_Range'], axis =1)\n"
      ],
      "execution_count": 0,
      "outputs": []
    },
    {
      "cell_type": "code",
      "metadata": {
        "id": "9kF14cdQaV4a",
        "colab_type": "code",
        "colab": {}
      },
      "source": [
        "train[['Age', 'Survived']].groupby(['Age'], as_index=False).mean().sort_values(by='Age', ascending=True)\n"
      ],
      "execution_count": 0,
      "outputs": []
    },
    {
      "cell_type": "markdown",
      "metadata": {
        "id": "WiEGQ5_lBlRP",
        "colab_type": "text"
      },
      "source": [
        "# Train Data 분리"
      ]
    },
    {
      "cell_type": "code",
      "metadata": {
        "id": "fRSUv288BoZO",
        "colab_type": "code",
        "colab": {}
      },
      "source": [
        "x_train = train.drop(\"Survived\", axis=1)\n",
        "y_train = train[\"Survived\"]"
      ],
      "execution_count": 0,
      "outputs": []
    },
    {
      "cell_type": "code",
      "metadata": {
        "id": "J1Dqoe-AB3FX",
        "colab_type": "code",
        "colab": {}
      },
      "source": [
        "print('x_train.shape :', x_train.shape)\n",
        "print('test.shape :', test.shape)"
      ],
      "execution_count": 0,
      "outputs": []
    },
    {
      "cell_type": "markdown",
      "metadata": {
        "id": "G1M2tplPBLbi",
        "colab_type": "text"
      },
      "source": [
        "# Model 만들기"
      ]
    },
    {
      "cell_type": "code",
      "metadata": {
        "id": "Zi26madkOcqa",
        "colab_type": "code",
        "colab": {}
      },
      "source": [
        "from collections import Counter\n",
        "\n",
        "from sklearn.ensemble import RandomForestClassifier, AdaBoostClassifier, GradientBoostingClassifier, ExtraTreesClassifier, VotingClassifier\n",
        "from sklearn.discriminant_analysis import LinearDiscriminantAnalysis\n",
        "from sklearn.linear_model import LogisticRegression\n",
        "from sklearn.neighbors import KNeighborsClassifier\n",
        "from sklearn.tree import DecisionTreeClassifier\n",
        "from sklearn.neural_network import MLPClassifier\n",
        "from sklearn.svm import SVC\n",
        "from sklearn.model_selection import GridSearchCV, cross_val_score, StratifiedKFold, learning_curve\n",
        "\n",
        "kfold = StratifiedKFold(n_splits=10)\n",
        "\n",
        "random_state = 2\n",
        "classifiers = []\n",
        "classifiers.append(SVC(random_state=random_state))\n",
        "classifiers.append(DecisionTreeClassifier(random_state=random_state))\n",
        "classifiers.append(AdaBoostClassifier(DecisionTreeClassifier(random_state=random_state),random_state=random_state,learning_rate=0.1))\n",
        "classifiers.append(RandomForestClassifier(random_state=random_state))\n",
        "classifiers.append(ExtraTreesClassifier(random_state=random_state))\n",
        "classifiers.append(GradientBoostingClassifier(random_state=random_state))\n",
        "classifiers.append(MLPClassifier(random_state=random_state))\n",
        "classifiers.append(KNeighborsClassifier())\n",
        "classifiers.append(LogisticRegression(random_state = random_state))\n",
        "classifiers.append(LinearDiscriminantAnalysis())\n",
        "\n",
        "cv_results = []\n",
        "for classifier in classifiers :\n",
        "    cv_results.append(cross_val_score(classifier, x_train, y = y_train, scoring = \"accuracy\", cv = kfold, n_jobs=4))\n",
        "\n",
        "cv_means = []\n",
        "cv_std = []\n",
        "for cv_result in cv_results:\n",
        "    cv_means.append(cv_result.mean())\n",
        "    cv_std.append(cv_result.std())\n",
        "\n",
        "cv_res = pd.DataFrame({\"CrossValMeans\":cv_means,\"CrossValerrors\": cv_std,\"Algorithm\":[\"SVC\",\"DecisionTree\",\"AdaBoost\",\n",
        "\"RandomForest\",\"ExtraTrees\",\"GradientBoosting\",\"MultipleLayerPerceptron\",\"KNeighboors\",\"LogisticRegression\",\"LinearDiscriminantAnalysis\"]})\n",
        "\n",
        "g = sns.barplot(\"CrossValMeans\",\"Algorithm\",data = cv_res, palette=\"Set3\",orient = \"h\",**{'xerr':cv_std})\n",
        "g.set_xlabel(\"Mean Accuracy\")\n",
        "g = g.set_title(\"Cross validation scores\")"
      ],
      "execution_count": 0,
      "outputs": []
    },
    {
      "cell_type": "markdown",
      "metadata": {
        "id": "THU9oZkSenGQ",
        "colab_type": "text"
      },
      "source": [
        "########################################"
      ]
    },
    {
      "cell_type": "markdown",
      "metadata": {
        "id": "cDbLucFPuhAK",
        "colab_type": "text"
      },
      "source": [
        "# DNN 모델"
      ]
    },
    {
      "cell_type": "code",
      "metadata": {
        "id": "5wosO7L_j_-g",
        "colab_type": "code",
        "colab": {}
      },
      "source": [
        "import tensorflow as tf\n",
        "from keras import Sequential\n",
        "from keras.layers import Dense, Activation\n",
        "import keras\n",
        "from keras.layers import Dropout ,BatchNormalization\n",
        "from keras.optimizers import Adam , SGD\n",
        "from keras import optimizers\n"
      ],
      "execution_count": 0,
      "outputs": []
    },
    {
      "cell_type": "code",
      "metadata": {
        "id": "EYT1zxp7j_wk",
        "colab_type": "code",
        "colab": {}
      },
      "source": [
        "#가장 성능 좋은 모델\n",
        "model = Sequential()\n",
        "model.add(Dense(units=32, activation= 'relu', input_dim =11 ))\n",
        "model.add(Dense(units= 16, activation= \"relu\"))\n",
        "model.add(Dense(units=1, activation ='sigmoid'))\n",
        "sgd=optimizers.SGD(lr=0.001)\n",
        "\n",
        "model.compile(optimizer=sgd, loss = \"binary_crossentropy\", metrics = ['accuracy'])\n"
      ],
      "execution_count": 0,
      "outputs": []
    },
    {
      "cell_type": "code",
      "metadata": {
        "id": "RYWOY0BYl2sh",
        "colab_type": "code",
        "colab": {}
      },
      "source": [
        "history = model.fit(x_train, y_train, epochs = 1000)"
      ],
      "execution_count": 0,
      "outputs": []
    },
    {
      "cell_type": "code",
      "metadata": {
        "id": "nmzQOkC5l9ul",
        "colab_type": "code",
        "colab": {}
      },
      "source": [
        "prec = model.predict(test)"
      ],
      "execution_count": 0,
      "outputs": []
    },
    {
      "cell_type": "code",
      "metadata": {
        "id": "9vm3cSuRmqjw",
        "colab_type": "code",
        "colab": {}
      },
      "source": [
        "prec = pd.DataFrame(prec)"
      ],
      "execution_count": 0,
      "outputs": []
    },
    {
      "cell_type": "code",
      "metadata": {
        "id": "SfICho7n3Gti",
        "colab_type": "code",
        "colab": {}
      },
      "source": [
        "prec"
      ],
      "execution_count": 0,
      "outputs": []
    },
    {
      "cell_type": "code",
      "metadata": {
        "id": "E3rTAP0Mnr1I",
        "colab_type": "code",
        "colab": {}
      },
      "source": [
        "\n",
        "\n",
        "prec.loc[prec[0] >=0.5] =1\n",
        "prec.loc[prec[0]<0.5] = 0\n",
        "\n",
        "prec = prec[0].astype(int)"
      ],
      "execution_count": 0,
      "outputs": []
    },
    {
      "cell_type": "code",
      "metadata": {
        "id": "wpoprALxmguC",
        "colab_type": "code",
        "colab": {}
      },
      "source": [
        "submission = pd.DataFrame({\n",
        "            \"PassengerId\": test_id[\"PassengerId\"],\n",
        "        \"Survived\": prec\n",
        "    })\n",
        "submission.to_csv(\"drive/My Drive/titanic9.csv\", index=False)"
      ],
      "execution_count": 0,
      "outputs": []
    },
    {
      "cell_type": "markdown",
      "metadata": {
        "id": "quHWTtJ2xvcd",
        "colab_type": "text"
      },
      "source": [
        "# VotingClassifier"
      ]
    },
    {
      "cell_type": "code",
      "metadata": {
        "id": "hGhmyDdpuJHE",
        "colab_type": "code",
        "colab": {}
      },
      "source": [
        "\n",
        "m1 = LogisticRegression(solver=\"liblinear\", random_state= 42)\n",
        "m2 = DecisionTreeClassifier(max_depth = 3, criterion = \"gini\", random_state= 0)\n",
        "m3 = KNeighborsClassifier(n_neighbors=5, p=2, metric='minkowski')\n",
        "m4 = RandomForestClassifier(max_depth = 10, n_estimators=100, random_state=42)\n",
        "m5 = SVC(probability = True, gamma=\"auto\", C = 10, random_state=42)\n",
        "m6 = GaussianNB()\n",
        "m9 = SGDClassifier(loss = \"log\")"
      ],
      "execution_count": 0,
      "outputs": []
    },
    {
      "cell_type": "code",
      "metadata": {
        "id": "SBJJrRhlyFm7",
        "colab_type": "code",
        "colab": {}
      },
      "source": [
        "vot = VotingClassifier(estimators=[('1', m1), ('2', m4), ('3', m5), ('4', m2), ('5',m3),('6', m6),\n",
        "                                    ('9',m9)], voting = 'soft')\n"
      ],
      "execution_count": 0,
      "outputs": []
    },
    {
      "cell_type": "markdown",
      "metadata": {
        "id": "CjFzKD3NDlH-",
        "colab_type": "text"
      },
      "source": [
        ""
      ]
    },
    {
      "cell_type": "code",
      "metadata": {
        "id": "E5MLP7GoycEm",
        "colab_type": "code",
        "colab": {}
      },
      "source": [
        "vot.fit(x_train, y_train)"
      ],
      "execution_count": 0,
      "outputs": []
    },
    {
      "cell_type": "code",
      "metadata": {
        "id": "lSQp85l4yhm9",
        "colab_type": "code",
        "colab": {}
      },
      "source": [
        "\n",
        "pre = vot.predict(test)\n"
      ],
      "execution_count": 0,
      "outputs": []
    },
    {
      "cell_type": "code",
      "metadata": {
        "id": "KrrOvrg4y5Y3",
        "colab_type": "code",
        "colab": {}
      },
      "source": [
        "pre = pd.DataFrame(pre)"
      ],
      "execution_count": 0,
      "outputs": []
    },
    {
      "cell_type": "code",
      "metadata": {
        "id": "ir2_QEE919zP",
        "colab_type": "code",
        "colab": {}
      },
      "source": [
        "pre = pre[0].astype(int)"
      ],
      "execution_count": 0,
      "outputs": []
    },
    {
      "cell_type": "code",
      "metadata": {
        "id": "LskvYYp43aIj",
        "colab_type": "code",
        "colab": {}
      },
      "source": [
        "pre"
      ],
      "execution_count": 0,
      "outputs": []
    },
    {
      "cell_type": "code",
      "metadata": {
        "id": "4q9XRAUR2EAj",
        "colab_type": "code",
        "colab": {}
      },
      "source": [
        "submission = pd.DataFrame({\n",
        "            \"PassengerId\": test_id[\"PassengerId\"],\n",
        "        \"Survived\": pre\n",
        "    })\n",
        "submission.to_csv(\"drive/My Drive/titanic7.csv\", index=False)"
      ],
      "execution_count": 0,
      "outputs": []
    },
    {
      "cell_type": "code",
      "metadata": {
        "id": "w_B_mZ6fXCzZ",
        "colab_type": "code",
        "colab": {}
      },
      "source": [
        ""
      ],
      "execution_count": 0,
      "outputs": []
    }
  ]
}
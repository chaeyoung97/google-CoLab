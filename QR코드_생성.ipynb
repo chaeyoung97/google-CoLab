{
  "nbformat": 4,
  "nbformat_minor": 0,
  "metadata": {
    "colab": {
      "name": "QR코드 생성.ipynb",
      "provenance": [],
      "private_outputs": true,
      "collapsed_sections": [],
      "mount_file_id": "1-7p882Sp3oxZfz8cBDqKsS2AhV-JZdyj",
      "authorship_tag": "ABX9TyOTLtMc8MjE1uFxd+8qVitg",
      "include_colab_link": true
    },
    "kernelspec": {
      "name": "python3",
      "display_name": "Python 3"
    }
  },
  "cells": [
    {
      "cell_type": "markdown",
      "metadata": {
        "id": "view-in-github",
        "colab_type": "text"
      },
      "source": [
        "<a href=\"https://colab.research.google.com/github/chaeyoung97/google-CoLab/blob/master/QR%EC%BD%94%EB%93%9C_%EC%83%9D%EC%84%B1.ipynb\" target=\"_parent\"><img src=\"https://colab.research.google.com/assets/colab-badge.svg\" alt=\"Open In Colab\"/></a>"
      ]
    },
    {
      "cell_type": "markdown",
      "metadata": {
        "id": "3X29r9_fOHuP",
        "colab_type": "text"
      },
      "source": [
        "# QR 코드 /바코드 인식"
      ]
    },
    {
      "cell_type": "code",
      "metadata": {
        "id": "NWgwLTXEOE2D",
        "colab_type": "code",
        "colab": {}
      },
      "source": [
        "pip install pillow"
      ],
      "execution_count": null,
      "outputs": []
    },
    {
      "cell_type": "code",
      "metadata": {
        "id": "3_Io8Vo8Oq5n",
        "colab_type": "code",
        "colab": {}
      },
      "source": [
        "pip install colorama"
      ],
      "execution_count": null,
      "outputs": []
    },
    {
      "cell_type": "code",
      "metadata": {
        "id": "5mn8hjiRPmnY",
        "colab_type": "code",
        "colab": {}
      },
      "source": [
        "pip install qrcode"
      ],
      "execution_count": null,
      "outputs": []
    },
    {
      "cell_type": "code",
      "metadata": {
        "id": "q9_7kj4QPokg",
        "colab_type": "code",
        "colab": {}
      },
      "source": [
        "import qrcode"
      ],
      "execution_count": null,
      "outputs": []
    },
    {
      "cell_type": "code",
      "metadata": {
        "id": "kfQ2XwesPrI1",
        "colab_type": "code",
        "colab": {}
      },
      "source": [
        "qr = qrcode.QRCode(\n",
        "    version = 2,\n",
        "    error_correction = qrcode.constants.ERROR_CORRECT_H,\n",
        "    box_size = 3,\n",
        "    border = 3\n",
        ")"
      ],
      "execution_count": null,
      "outputs": []
    },
    {
      "cell_type": "code",
      "metadata": {
        "id": "XP32uTAXP2b5",
        "colab_type": "code",
        "colab": {}
      },
      "source": [
        "url = 'https://www.naver.com/' \n",
        "qr.add_data(url)\n",
        "qr.make()\n",
        "img = qr.make_image(fill_color = \"black\", black_color =\"white\")\n",
        "img.save(\"qr_naver.png\")"
      ],
      "execution_count": null,
      "outputs": []
    },
    {
      "cell_type": "code",
      "metadata": {
        "id": "exZZMlF1QwuE",
        "colab_type": "code",
        "colab": {}
      },
      "source": [
        "img2 = qrcode.make(\"안녕\")\n",
        "img.save(\"hello_qr.png\")\n"
      ],
      "execution_count": null,
      "outputs": []
    },
    {
      "cell_type": "markdown",
      "metadata": {
        "id": "UlIRn6feOGtU",
        "colab_type": "text"
      },
      "source": [
        "#코드 실행 후 구글 드라이브 마운트해서 보면 qr코드 이미지가 생성된 것을 확인할 수 있음"
      ]
    }
  ]
}
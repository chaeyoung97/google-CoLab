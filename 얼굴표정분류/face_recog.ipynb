{
  "nbformat": 4,
  "nbformat_minor": 0,
  "metadata": {
    "colab": {
      "name": "얼굴표정분류.ipynb",
      "provenance": [],
      "private_outputs": true,
      "collapsed_sections": [],
      "machine_shape": "hm"
    },
    "kernelspec": {
      "name": "python3",
      "display_name": "Python 3"
    },
    "accelerator": "GPU"
  },
  "cells": [
    {
      "cell_type": "code",
      "metadata": {
        "id": "VqS54ZKDfjkK",
        "colab_type": "code",
        "colab": {}
      },
      "source": [
        "import tensorflow\n",
        "import csv\n",
        "import numpy as np\n",
        "from keras.models import Sequential\n",
        "from keras.layers import Dense, Dropout, Activation, Flatten\n",
        "from keras.layers import Conv2D, MaxPooling2D, BatchNormalization, AveragePooling2D\n",
        "from keras.losses import categorical_crossentropy\n",
        "from keras.optimizers import Adam, SGD\n",
        "from keras import optimizers\n",
        "from keras.regularizers import l2\n",
        "from sklearn.model_selection import train_test_split\n",
        "import os\n",
        "from skimage import transform, io\n",
        "import matplotlib.pyplot as plt\n",
        "from PIL import Image\n",
        "import pandas as pd\n",
        "\n",
        "import os\n",
        "%matplotlib inline\n",
        "\n",
        "np.random.seed(15)"
      ],
      "execution_count": 0,
      "outputs": []
    },
    {
      "cell_type": "markdown",
      "metadata": {
        "id": "8zWoAfV2lZIW",
        "colab_type": "text"
      },
      "source": [
        "#Data 불러오기 & Data Normalization"
      ]
    },
    {
      "cell_type": "code",
      "metadata": {
        "id": "9TmmMqatVcNN",
        "colab_type": "code",
        "colab": {}
      },
      "source": [
        "data = '/content/drive/My Drive/Faces Project/fer2013.csv'"
      ],
      "execution_count": 0,
      "outputs": []
    },
    {
      "cell_type": "code",
      "metadata": {
        "id": "0p2jt3r4VcHK",
        "colab_type": "code",
        "colab": {}
      },
      "source": [
        "x_train = []    #모든 train image set\n",
        "y_train = []    #모든 train label set\n",
        "\n",
        "x_test = []     #test image set\n",
        "y_test=[]       #test label set\n",
        "\n",
        "a = np.zeros(7) #클래스별로 이미지가 몇개씩 있는지 확인할 변수"
      ],
      "execution_count": 0,
      "outputs": []
    },
    {
      "cell_type": "code",
      "metadata": {
        "id": "5Il-KnRJ235S",
        "colab_type": "code",
        "colab": {}
      },
      "source": [
        "# train image를 클래스 별로 분류\n",
        "angry =[]\n",
        "angry_label=[]\n",
        "disgust = []\n",
        "disgust_label = []\n",
        "fear =[]\n",
        "fear_label =[]\n",
        "happy =[]\n",
        "happy_label =[]\n",
        "sad =[]\n",
        "sad_label =[]\n",
        "surprise =[]\n",
        "surprise_label =[]\n",
        "neutral =[]\n",
        "neutral_label =[]"
      ],
      "execution_count": 0,
      "outputs": []
    },
    {
      "cell_type": "code",
      "metadata": {
        "id": "MO6IdIrPVcEZ",
        "colab_type": "code",
        "colab": {}
      },
      "source": [
        "#파일을 불러와서 train/test 셋으로 나눈다\n",
        "#train 셋을 클래스 별로 분류한다\n",
        "with open(data) as csv_file:\n",
        "    csv_reader = csv.reader(csv_file, delimiter=',')\n",
        "    for row_id, row in enumerate(csv_reader):\n",
        "        # skip header\n",
        "        if row_id == 0:\n",
        "            continue\n",
        "        \n",
        "        label = np.zeros(7) + 0.01\n",
        "        label[int(row[0])] = 0.99\n",
        "        image = list(map(int, row[1].split(' ')))\n",
        "        \n",
        "        if row[2] == 'Training':\n",
        "            if int(row[0]) == 0:\n",
        "                angry.append(image)\n",
        "                angry_label.append(label)\n",
        "            elif int(row[0]) == 1:\n",
        "                disgust.append(image)\n",
        "                disgust_label.append(label)\n",
        "            elif int(row[0]) == 2:\n",
        "                fear.append(image)\n",
        "                fear_label.append(label)\n",
        "            elif int(row[0]) == 3:\n",
        "                happy.append(image)\n",
        "                happy_label.append(label)\n",
        "            elif int(row[0]) == 4:\n",
        "                sad.append(image)\n",
        "                sad_label.append(label)\n",
        "            elif int(row[0]) == 5:\n",
        "                surprise.append(image)\n",
        "                surprise_label.append(label)\n",
        "            elif int(row[0]) == 6:\n",
        "                neutral.append(image)\n",
        "                neutral_label.append(label)\n",
        "            a[int(row[0])] =  a[int(row[0])]+1\n",
        "        elif row[2] == 'Testing': \n",
        "            y_test.append(label)\n",
        "            x_test.append(image)"
      ],
      "execution_count": 0,
      "outputs": []
    },
    {
      "cell_type": "code",
      "metadata": {
        "id": "AVZFIW6UXL7t",
        "colab_type": "code",
        "colab": {}
      },
      "source": [
        "angry= np.asarray(angry, dtype = np.float32).reshape(-1, 48, 48, 1)\n",
        "angry_label = np.asarray(angry_label, dtype = np.float32)\n",
        "disgust= np.asarray(disgust, dtype = np.float32).reshape(-1, 48, 48, 1)\n",
        "disgust_label = np.asarray(disgust_label, dtype = np.float32)\n",
        "fear= np.asarray(fear, dtype = np.float32).reshape(-1, 48, 48, 1)\n",
        "fear_label = np.asarray(fear_label, dtype = np.float32)\n",
        "happy= np.asarray(happy, dtype = np.float32).reshape(-1, 48, 48, 1)\n",
        "happy_label = np.asarray(happy_label, dtype = np.float32)\n",
        "sad= np.asarray(sad, dtype = np.float32).reshape(-1, 48, 48, 1)\n",
        "sad_label = np.asarray(sad_label, dtype = np.float32)\n",
        "surprise= np.asarray(surprise, dtype = np.float32).reshape(-1, 48, 48, 1)\n",
        "surprise_label = np.asarray(surprise_label, dtype = np.float32)\n",
        "neutral= np.asarray(neutral, dtype = np.float32).reshape(-1, 48, 48, 1)\n",
        "neutral_label = np.asarray(neutral_label, dtype = np.float32)\n",
        "\n",
        "x_test = np.asarray(x_test, dtype = np.float32).reshape(-1, 48, 48, 1)\n",
        "y_test = np.asarray(y_test, dtype = np.float32)"
      ],
      "execution_count": 0,
      "outputs": []
    },
    {
      "cell_type": "code",
      "metadata": {
        "id": "8PLNYJgwzAsq",
        "colab_type": "code",
        "colab": {}
      },
      "source": [
        "\n",
        "x_test = np.asarray(x_test, dtype = np.float32).reshape(-1, 48, 48, 1)\n",
        "y_test = np.asarray(y_test, dtype = np.float32)"
      ],
      "execution_count": 0,
      "outputs": []
    },
    {
      "cell_type": "code",
      "metadata": {
        "id": "o-z8La8yh7mt",
        "colab_type": "code",
        "colab": {}
      },
      "source": [
        "#normalization\n",
        "angry /= 255.0\n",
        "disgust /= 255.0\n",
        "fear /= 255.0\n",
        "happy /= 255.0\n",
        "sad /= 255.0\n",
        "surprise /= 255.0\n",
        "neutral /= 255.0\n",
        "x_test /= 255.0"
      ],
      "execution_count": 0,
      "outputs": []
    },
    {
      "cell_type": "code",
      "metadata": {
        "id": "utwDr94C9UTF",
        "colab_type": "code",
        "colab": {}
      },
      "source": [
        "#클래스 별로 분류한 데이터를 하나의 train set으로 합쳐 모델을 학습시킴\n",
        "x_train = np.concatenate((angry, disgust, fear, happy, sad, surprise, neutral))\n",
        "y_train = np.concatenate((angry_label, disgust_label, fear_label,happy_label, sad_label, surprise_label, neutral_label))"
      ],
      "execution_count": 0,
      "outputs": []
    },
    {
      "cell_type": "code",
      "metadata": {
        "id": "WAJ9Jv23j2pq",
        "colab_type": "code",
        "colab": {}
      },
      "source": [
        "#train set을 validation을 위한 데이터와 train을 위한 데이터로 나눠준다\n",
        "#random_state 하면 실행 시킬 때 마다 같은 기준으로 나눠줌!\n",
        "x_train, x_val, y_train, y_val = train_test_split(x_train, y_train, test_size=0.1,random_state = 64)"
      ],
      "execution_count": 0,
      "outputs": []
    },
    {
      "cell_type": "code",
      "metadata": {
        "id": "YMtFi6pFlE7f",
        "colab_type": "code",
        "colab": {}
      },
      "source": [
        "print(\"x_train.shape: \", x_train.shape)\n",
        "print(\"y_train.shape: \", y_train.shape)\n",
        "print(\"x_test.shape: \", x_test.shape)\n",
        "print(\"y_test.shape: \", y_test.shape)\n",
        "print(\"x_val.shape: \", x_val.shape)\n",
        "print(\"y_val.shape:\", y_val.shape)"
      ],
      "execution_count": 0,
      "outputs": []
    },
    {
      "cell_type": "markdown",
      "metadata": {
        "id": "mzP1K4vRlsh0",
        "colab_type": "text"
      },
      "source": [
        "#이미지 출력해보기"
      ]
    },
    {
      "cell_type": "code",
      "metadata": {
        "id": "Yg8-NAF2lRbv",
        "colab_type": "code",
        "colab": {}
      },
      "source": [
        "emotions = {\n",
        "    0: 'Angry', \n",
        "    1: 'Disgust', \n",
        "    2: 'Fear', \n",
        "    3: 'Happy',\n",
        "    4: 'Sad', \n",
        "    5: 'Surprise', \n",
        "    6: 'Neutral'\n",
        "}"
      ],
      "execution_count": 0,
      "outputs": []
    },
    {
      "cell_type": "code",
      "metadata": {
        "id": "uPETUac3QHqm",
        "colab_type": "code",
        "colab": {}
      },
      "source": [
        "#원본이미지 갯수\n",
        "total=0;\n",
        "for i in range(7):\n",
        "    print(emotions[i],':',a[i])\n",
        "    total+=a[i]\n",
        "print('-'*20)\n",
        "print('total: ', total)"
      ],
      "execution_count": 0,
      "outputs": []
    },
    {
      "cell_type": "code",
      "metadata": {
        "id": "JUFO1w2Yly5p",
        "colab_type": "code",
        "colab": {}
      },
      "source": [
        "index = 1000\n",
        "print('Label array:', y_train[index], '\\nLabel:', np.argmax(y_train[index]),\n",
        "      '\\nEmotion:', emotions[np.argmax(y_train[index])],\n",
        "      '\\nImage shape:', x_train[index].shape)\n",
        "plt.imshow(x_train[index].reshape(48, 48), cmap='gray')\n",
        "plt.show()\n",
        "image = x_train[2].reshape(48, 48)"
      ],
      "execution_count": 0,
      "outputs": []
    },
    {
      "cell_type": "markdown",
      "metadata": {
        "id": "FC29wQgxmjA_",
        "colab_type": "text"
      },
      "source": [
        "# First Model\n",
        "- 처음 주어진 european_dataset만 가지고 훈련시킨 모델"
      ]
    },
    {
      "cell_type": "code",
      "metadata": {
        "id": "kHg7dubJl0Uc",
        "colab_type": "code",
        "colab": {}
      },
      "source": [
        "#모델 생성\n",
        "def make_model():\n",
        "    #흑백이미지로 인풋을 넣음\n",
        "    input_shape = (48, 48, 1)\n",
        "   \n",
        "    model = Sequential()\n",
        "    model.add(Conv2D(32, kernel_size=(3, 3), input_shape=input_shape, activation='relu', padding='same'))\n",
        "    model.add(Conv2D(32, (3, 3), activation='relu', padding='same'))\n",
        "    model.add(MaxPooling2D(pool_size=(2, 2)))\n",
        "\n",
        "    model.add(Conv2D(64, (3, 3), activation='relu', padding='same'))\n",
        "    model.add(Conv2D(64, (3, 3), activation='relu', padding='same'))\n",
        "    model.add(Conv2D(64, (3, 3), activation='relu', padding='same'))\n",
        "    model.add(BatchNormalization())\n",
        "    model.add(MaxPooling2D(pool_size=(2, 2)))\n",
        "\n",
        "\n",
        "    model.add(Conv2D(128, (3, 3), activation='relu', padding='same'))\n",
        "    model.add(Conv2D(128, (3, 3), activation='relu', padding='same'))\n",
        "    model.add(Conv2D(128, (3, 3), activation='relu', padding='same'))\n",
        "    model.add(Dropout(0.55))\n",
        "    model.add(BatchNormalization())\n",
        "    model.add(MaxPooling2D(pool_size=(2, 2)))\n",
        "\n",
        "    model.add(Flatten())\n",
        "    model.add(Dense(128, activation='relu'))\n",
        "    model.add(BatchNormalization())\n",
        "    model.add(Dropout(0.3))\n",
        "    model.add(Dense(7, activation='softmax'))\n",
        "    return model"
      ],
      "execution_count": 0,
      "outputs": []
    },
    {
      "cell_type": "code",
      "metadata": {
        "id": "27IxxhuvnFdH",
        "colab_type": "code",
        "colab": {}
      },
      "source": [
        "#모델 컴파일 함수 (파라미터로 모델과 ,러닝rate가 들어감)\n",
        "def model_compile(model, rate):\n",
        "\n",
        "    #Compliling the model with adam optimixer and categorical crossentropy loss\n",
        "    model.compile(loss='categorical_crossentropy',\n",
        "                optimizer=Adam(lr=rate, beta_1=0.9, beta_2=0.999, epsilon=1e-7),\n",
        "                metrics=['accuracy'])\n"
      ],
      "execution_count": 0,
      "outputs": []
    },
    {
      "cell_type": "code",
      "metadata": {
        "id": "VhPdGuLx4QpH",
        "colab_type": "code",
        "colab": {}
      },
      "source": [
        "#valid 데이터와 train데이터의 accuracy와 loss의 양상을 그래프로 시각화\n",
        "def show_history(train_history):\n",
        "    acc = train_history.history['accuracy']\n",
        "    val_acc = train_history.history['val_accuracy']\n",
        "    loss = train_history.history['loss']\n",
        "    val_loss = train_history.history['val_loss']\n",
        "\n",
        "    epochs = range(len(acc))\n",
        "\n",
        "  \n",
        "\n",
        "    plt.plot(epochs, loss, 'bo', label='Training loss', c = 'blue') \n",
        "    plt.plot(epochs, val_loss, 'b', label='Validation loss' ,c='red')\n",
        "    plt.title('Training and validation loss')\n",
        "    plt.legend()\n",
        "\n",
        "    plt.show() \n",
        "    plt.plot(epochs, acc, 'bo', label='Training acc', c = 'blue')\n",
        "    plt.plot(epochs, val_acc, 'b', label='Validation acc', c= 'red')\n",
        "    plt.title('Training and validation accuracy')\n",
        "    plt.legend()\n",
        "\n",
        "    plt.figure()"
      ],
      "execution_count": 0,
      "outputs": []
    },
    {
      "cell_type": "code",
      "metadata": {
        "id": "0roJ9KSEjUWX",
        "colab_type": "code",
        "colab": {}
      },
      "source": [
        "# tset data로 모델 평가\n",
        "def model_eval(model):\n",
        "    loss, accuracy = model.evaluate(x_test, y_test, verbose = 1)\n",
        "    print(\"loss: \",loss)\n",
        "    print(\"accuracy: \", accuracy*100,'%')"
      ],
      "execution_count": 0,
      "outputs": []
    },
    {
      "cell_type": "code",
      "metadata": {
        "id": "v6rKSYIvEflF",
        "colab_type": "code",
        "colab": {}
      },
      "source": [
        ""
      ],
      "execution_count": 0,
      "outputs": []
    },
    {
      "cell_type": "code",
      "metadata": {
        "id": "TTZknnofIfmN",
        "colab_type": "code",
        "colab": {}
      },
      "source": [
        "#fer2013으로 주어진 유러피안 데이터만 가지고 학습시킨모델\n",
        "model = make_model()\n",
        "model_compile(model, 0.001)\n",
        "history = model.fit(x_train, y_train,\n",
        "        batch_size=128,\n",
        "        epochs=30,\n",
        "        validation_data=(x_val, y_val),\n",
        "        verbose=1)\n",
        "show_history(history)\n",
        "model_eval(model)"
      ],
      "execution_count": 0,
      "outputs": []
    },
    {
      "cell_type": "code",
      "metadata": {
        "id": "zPIg-Qzg4eSB",
        "colab_type": "code",
        "colab": {}
      },
      "source": [
        "show_history(history)\n",
        "model_eval(model)"
      ],
      "execution_count": 0,
      "outputs": []
    },
    {
      "cell_type": "code",
      "metadata": {
        "id": "UDU6ncjgkKn4",
        "colab_type": "code",
        "colab": {}
      },
      "source": [
        "model_eval(model)\n",
        "#61.32"
      ],
      "execution_count": 0,
      "outputs": []
    },
    {
      "cell_type": "code",
      "metadata": {
        "id": "vm9yqSd93DfO",
        "colab_type": "code",
        "colab": {}
      },
      "source": [
        "model.save('/content/drive/My Drive/Faces Project/model1.h5')"
      ],
      "execution_count": 0,
      "outputs": []
    },
    {
      "cell_type": "markdown",
      "metadata": {
        "id": "NoAPHlzgN7j3",
        "colab_type": "text"
      },
      "source": [
        "# Data Augumentation 데이터 증강\n",
        "- 더 많은 이미지를 학습하여 overfitting방지\n",
        "- ImageDataGenerator를 이용\n"
      ]
    },
    {
      "cell_type": "markdown",
      "metadata": {
        "id": "TvOlSspQE4u0",
        "colab_type": "text"
      },
      "source": [
        "## 1 - 이미지 반전시키기"
      ]
    },
    {
      "cell_type": "code",
      "metadata": {
        "id": "3-3qQItIFRpf",
        "colab_type": "code",
        "colab": {}
      },
      "source": [
        "#이미지를 좌우로 반전시키는 함수\n",
        "def data_transpose(x_train, y_train):\n",
        "    x = np.zeros_like(x_train)\n",
        "    y = np.zeros_like(y_train)\n",
        "    for i in range(x_train.shape[0]):\n",
        "       for j in range(x_train.shape[1]):\n",
        "           for k in range(x_train.shape[2]): \n",
        "               x[i,j,k,0] = x_train[i,j,47-k,0]\n",
        "    y = y_train\n",
        "    return x , y"
      ],
      "execution_count": 0,
      "outputs": []
    },
    {
      "cell_type": "code",
      "metadata": {
        "id": "S7XnBfdsG-7U",
        "colab_type": "code",
        "colab": {}
      },
      "source": [
        "#클래스별로 이미지 좌우 반전\n",
        "angry_t , angry_label_t = data_transpose(angry, angry_label)\n",
        "disgust_t , disgust_label_t = data_transpose(disgust, disgust_label)\n",
        "fear_t , fear_label_t = data_transpose(fear, fear_label)\n",
        "happy_t , happy_label_t = data_transpose(happy, happy_label)\n",
        "sad_t ,sad_label_t = data_transpose(sad, sad_label)\n",
        "surprise_t , suprise_label_t = data_transpose(surprise, surprise_label)\n",
        "neutral_t ,neutral_label_t = data_transpose(neutral, neutral_label)"
      ],
      "execution_count": 0,
      "outputs": []
    },
    {
      "cell_type": "code",
      "metadata": {
        "id": "B9hVn_SeD3V6",
        "colab_type": "code",
        "colab": {}
      },
      "source": [
        "# 원본 이미지\n",
        "index = 1000\n",
        "print('Label array:', angry_label[index], '\\nLabel:',(angry_label[index]),\n",
        "      '\\nEmotion:', emotions[np.argmax(y_train[index])],\n",
        "      '\\nImage shape:', angry[index].shape)\n",
        "plt.imshow(angry[index].reshape(48, 48), cmap='gray')\n",
        "plt.show()\n",
        "image = angry[2].reshape(48, 48)"
      ],
      "execution_count": 0,
      "outputs": []
    },
    {
      "cell_type": "code",
      "metadata": {
        "id": "szptLqlvA9s5",
        "colab_type": "code",
        "colab": {}
      },
      "source": [
        "# 좌우 반전된 이미지\n",
        "index = 1000\n",
        "print('Label array:', angry_label_t[index], '\\nLabel:',(angry_label_t[index]),\n",
        "      '\\nEmotion:', emotions[np.argmax(y_train[index])],\n",
        "      '\\nImage shape:', angry_t[index].shape)\n",
        "plt.imshow(angry_t[index].reshape(48, 48), cmap='gray')\n",
        "plt.show()\n",
        "image = angry_t[2].reshape(48, 48)"
      ],
      "execution_count": 0,
      "outputs": []
    },
    {
      "cell_type": "code",
      "metadata": {
        "id": "R7Wm4JBN-zjd",
        "colab_type": "code",
        "colab": {}
      },
      "source": [
        "#원본 이미지와 좌우 반전된 이미지를 합치기\n",
        "angry = np.concatenate((angry,angry_t))\n",
        "disgust = np.concatenate((disgust,disgust_t))\n",
        "fear = np.concatenate((fear, fear_t))\n",
        "happy = np.concatenate((happy, happy_t))\n",
        "sad = np.concatenate((sad, sad_t))\n",
        "surprise = np.concatenate((surprise, surprise_t))\n",
        "neutral = np.concatenate((neutral, neutral_t))\n"
      ],
      "execution_count": 0,
      "outputs": []
    },
    {
      "cell_type": "code",
      "metadata": {
        "id": "2vKTvsdK-3a6",
        "colab_type": "code",
        "colab": {}
      },
      "source": [
        "angry_label = np.concatenate((angry_label_t, angry_label))\n",
        "disgust_label = np.concatenate((disgust_label_t, disgust_label))\n",
        "fear_label = np.concatenate((fear_label_t, fear_label))\n",
        "happy_label = np.concatenate((happy_label_t, happy_label))\n",
        "sad_label = np.concatenate((sad_label_t, sad_label))\n",
        "surprise_label = np.concatenate((suprise_label_t, surprise_label))\n",
        "neutral_label = np.concatenate((neutral_label_t, neutral_label))\n"
      ],
      "execution_count": 0,
      "outputs": []
    },
    {
      "cell_type": "markdown",
      "metadata": {
        "id": "cdDZTnlQOrjx",
        "colab_type": "text"
      },
      "source": [
        "## 2 - ImageDataGenerator이용하여 회전, 확대, 밝기 조절, 좌우 반전\n"
      ]
    },
    {
      "cell_type": "markdown",
      "metadata": {
        "id": "Ru3DNHPnztCG",
        "colab_type": "text"
      },
      "source": [
        "- 현재 데이터가 클래스 별로 불균형하게 있음"
      ]
    },
    {
      "cell_type": "code",
      "metadata": {
        "id": "0_ecwqCMO9MR",
        "colab_type": "code",
        "colab": {}
      },
      "source": [
        "from keras.preprocessing.image import ImageDataGenerator\n",
        "np.random.seed(15)\n",
        "\n",
        "datagen = ImageDataGenerator(\n",
        "    featurewise_center=False,  \n",
        "    samplewise_center=False,  \n",
        "    featurewise_std_normalization=False,  \n",
        "    samplewise_std_normalization=False,  \n",
        "    zca_whitening=False,  \n",
        "\n",
        "    rotation_range = 8, #8도 회전 범위\n",
        "    width_shift_range = 0.001,  #좌우로 이동범위\n",
        "    height_shift_range = 0.001, #위아래로 이동범위\n",
        "    zoom_range = 0.2,       #확대축소범위\n",
        "    shear_range = 0.02,     #망가짐?범위\n",
        "    horizontal_flip = True, #좌우 반전\n",
        "    vertical_flip = False,  \n",
        "    fill_mode = 'nearest', #가까운 픽셀로 값을 채움\n",
        "\n",
        ")"
      ],
      "execution_count": 0,
      "outputs": []
    },
    {
      "cell_type": "markdown",
      "metadata": {
        "id": "vN4b9xpkA7zW",
        "colab_type": "text"
      },
      "source": [
        "- 모든 클래스마다 20000만개의 데이터로 만들기"
      ]
    },
    {
      "cell_type": "code",
      "metadata": {
        "id": "QjSTELE81dZ7",
        "colab_type": "code",
        "colab": {}
      },
      "source": [
        "#이미지를 생성하는 함수\n",
        "def generate_image(images, label):\n",
        "    copy_label=[]\n",
        "    arr=[]\n",
        "    num = 20000-images.shape[0] #2만개를 만들어야해서 2만에서 클래스별 이미지를 뺀 만큼만 이미지 생성\n",
        "    it = datagen.flow(images, batch_size = 1)   \n",
        "    fig = plt.figure(figsize = (48,48))\n",
        "    for i in range(num):\n",
        "        #plt.subplot (10,3,i+1)\n",
        "        batch = it.next()\n",
        "        arr.append(batch.reshape(48,48,1))  #생성된 이미지를 arr에 저장\n",
        "        copy_label.append(label)\n",
        "        #plt.imshow(batch.reshape(48,48))\n",
        "    #plt.show()\n",
        "    arr = np.array(arr)\n",
        "    copy_label = np.array(copy_label)\n",
        "    return arr , copy_label"
      ],
      "execution_count": 0,
      "outputs": []
    },
    {
      "cell_type": "code",
      "metadata": {
        "id": "Htdl5e5zBPgl",
        "colab_type": "code",
        "colab": {}
      },
      "source": [
        "#클래스별로 이미지 증대\n",
        "generate_angry, label0 = generate_image(angry, angry_label[0])\n",
        "\n",
        "generate_disgust, label1= generate_image(disgust, disgust_label[0])\n",
        "\n",
        "generate_fear, label2 = generate_image(fear, fear_label[0])\n",
        "\n",
        "generate_happy, label3 = generate_image(happy, happy_label[0])\n",
        "\n",
        "generate_sad, label4 = generate_image(sad, sad_label[0])\n",
        "\n",
        "generate_surprise, label5 = generate_image(surprise, surprise_label[0])\n",
        "\n",
        "generate_neutral, label6 =generate_image(neutral, neutral_label[0])"
      ],
      "execution_count": 0,
      "outputs": []
    },
    {
      "cell_type": "code",
      "metadata": {
        "id": "xUAFjoX9X4Wb",
        "colab_type": "code",
        "colab": {}
      },
      "source": [
        "# 클래스별로 이미지를 합치기\n",
        "angry = np.concatenate((angry, generate_angry))\n",
        "disgust = np.concatenate((disgust, generate_disgust))\n",
        "fear = np.concatenate((fear, generate_fear))\n",
        "happy = np.concatenate((happy, generate_happy))\n",
        "sad = np.concatenate((sad, generate_sad))\n",
        "surprise = np.concatenate((surprise, generate_surprise))\n",
        "neutral = np.concatenate((neutral, generate_neutral))\n"
      ],
      "execution_count": 0,
      "outputs": []
    },
    {
      "cell_type": "code",
      "metadata": {
        "id": "anjti8_VdoQ5",
        "colab_type": "code",
        "colab": {}
      },
      "source": [
        "angry_label = np.concatenate((angry_label, label0))\n",
        "disgust_label = np.concatenate((disgust_label, label1))\n",
        "fear_label = np.concatenate((fear_label, label2))\n",
        "happy_label = np.concatenate((happy_label, label3))\n",
        "sad_label = np.concatenate((sad_label, label4))\n",
        "surprise_label = np.concatenate((surprise_label, label5))\n",
        "neutral_label = np.concatenate((neutral_label, label6))\n"
      ],
      "execution_count": 0,
      "outputs": []
    },
    {
      "cell_type": "code",
      "metadata": {
        "id": "-2xr8Vn5eG54",
        "colab_type": "code",
        "colab": {}
      },
      "source": [
        "#모든 클래스를 합치기\n",
        "x_train =np.concatenate((angry, disgust, fear, happy, sad, surprise, neutral))\n",
        "y_train = np.concatenate((angry_label, disgust_label, fear_label, happy_label, sad_label, surprise_label, neutral_label))"
      ],
      "execution_count": 0,
      "outputs": []
    },
    {
      "cell_type": "code",
      "metadata": {
        "id": "8g3W3-aZdDqL",
        "colab_type": "code",
        "colab": {}
      },
      "source": [
        "print(\"angry.shape: \"  ,angry.shape)\n",
        "print(\"disgust.shape: \", disgust.shape )\n",
        "print(\"fear.shape: \",fear.shape)\n",
        "print(\"happy.shape: \", happy.shape)\n",
        "print(\"sad.shape: \", sad.shape)\n",
        "print(\"surprise.shape: \",surprise.shape)\n",
        "print(\"neutral.shape: \", neutral.shape)"
      ],
      "execution_count": 0,
      "outputs": []
    },
    {
      "cell_type": "code",
      "metadata": {
        "id": "5MN58swOdjdG",
        "colab_type": "code",
        "colab": {}
      },
      "source": [
        "print(\"x_train.shape: \", x_train.shape)\n",
        "print(\"y_train.shape: \", y_train.shape)"
      ],
      "execution_count": 0,
      "outputs": []
    },
    {
      "cell_type": "markdown",
      "metadata": {
        "id": "G6MbFvqqekNR",
        "colab_type": "text"
      },
      "source": [
        "# Second Model\n",
        "- 14만개의 데이터 셋으로 훈련"
      ]
    },
    {
      "cell_type": "code",
      "metadata": {
        "id": "yw62xHUBPqHq",
        "colab_type": "code",
        "colab": {}
      },
      "source": [
        "from keras.callbacks import EarlyStopping\n",
        "early_stopping = EarlyStopping(patience =25)    #val loss가 25동안 감소안하면 학습 종료"
      ],
      "execution_count": 0,
      "outputs": []
    },
    {
      "cell_type": "code",
      "metadata": {
        "id": "-DgyrPM7ej9L",
        "colab_type": "code",
        "colab": {}
      },
      "source": [
        "\n",
        "model2 = make_model()\n",
        "model_compile(model2,0.0001)    #lr = 0.0001\n",
        "history = model2.fit(x_train, y_train,\n",
        "        batch_size=256,\n",
        "        epochs=200,\n",
        "        validation_data=(x_val, y_val),\n",
        "        callbacks = [early_stopping],   #조기종료함수\n",
        "        verbose=1)\n",
        "show_history(history)\n",
        "model_eval(model2)"
      ],
      "execution_count": 0,
      "outputs": []
    },
    {
      "cell_type": "code",
      "metadata": {
        "id": "dlL3oZx_lZQe",
        "colab_type": "code",
        "colab": {}
      },
      "source": [
        "#모델 저장\n",
        "model2.save('/content/drive/My Drive/Faces Project/model2.h5')"
      ],
      "execution_count": 0,
      "outputs": []
    },
    {
      "cell_type": "markdown",
      "metadata": {
        "id": "XAqdwsE1gI-b",
        "colab_type": "text"
      },
      "source": [
        "# 한국인 데이터 셋으로 모델 평가해보기"
      ]
    },
    {
      "cell_type": "code",
      "metadata": {
        "id": "8CrpZgPOwblR",
        "colab_type": "code",
        "colab": {}
      },
      "source": [
        "from keras.preprocessing.image import load_img\n",
        "from keras.preprocessing.image import img_to_array\n",
        "import scipy as sp\n",
        "import glob\n",
        "import cv2\n",
        "\n",
        "\n",
        "#한국인 이미지를 48*48사이즈 , 흑백이미지로 불러와서 저장\n",
        "imgs = glob.glob('/content/drive/My Drive/Faces Project/Images_12161235/*.png')\n",
        "koreans = []\n",
        "for path in imgs:\n",
        "    img = cv2.imread(path)\n",
        "    img2 = cv2.cvtColor(img, cv2.COLOR_BGR2RGB)\n",
        "    img3 = cv2.cvtColor(img2, cv2.COLOR_BGR2GRAY)\n",
        "    img4 = cv2.resize(img3, (48,48), interpolation = cv2.INTER_LINEAR)\n",
        "    img5 = img_to_array(img4)\n",
        "    koreans.append(img5)"
      ],
      "execution_count": 0,
      "outputs": []
    },
    {
      "cell_type": "code",
      "metadata": {
        "id": "zAB5i0-TIfJ4",
        "colab_type": "code",
        "colab": {}
      },
      "source": [
        "koreans = np.asarray(koreans, dtype=\"float32\")"
      ],
      "execution_count": 0,
      "outputs": []
    },
    {
      "cell_type": "code",
      "metadata": {
        "id": "LnkPWGNBEb8N",
        "colab_type": "code",
        "colab": {}
      },
      "source": [
        "koreans /= 255.0"
      ],
      "execution_count": 0,
      "outputs": []
    },
    {
      "cell_type": "code",
      "metadata": {
        "id": "_oxAguC7_1so",
        "colab_type": "code",
        "colab": {}
      },
      "source": [
        "index = 5\n",
        "plt.imshow(koreans[index].reshape(48,48), cmap='gray')\n",
        "plt.show()"
      ],
      "execution_count": 0,
      "outputs": []
    },
    {
      "cell_type": "code",
      "metadata": {
        "colab_type": "code",
        "id": "Chh3peBBjFhD",
        "colab": {}
      },
      "source": [
        "#한국인 라벨링한 파일 읽어오기\n",
        "data = '/content/drive/My Drive/Faces Project/korean_face_dataset_12161235.csv'\n",
        "koreans_label=[]\n",
        "with open(data) as csv_file:\n",
        "    csv_reader = csv.reader(csv_file, delimiter=',')\n",
        "    for row_id, row in enumerate(csv_reader):\n",
        "        # skip header\n",
        "        if row_id == 0:\n",
        "            continue\n",
        "        \n",
        "        label = np.zeros(7) + 0.01\n",
        "        label[int(row[0])] = 0.99\n",
        "        koreans_label.append(label)"
      ],
      "execution_count": 0,
      "outputs": []
    },
    {
      "cell_type": "code",
      "metadata": {
        "id": "H0TT9e17ZuJz",
        "colab_type": "code",
        "colab": {}
      },
      "source": [
        "koreans_label = np.asarray(koreans_label, dtype= \"float32\")"
      ],
      "execution_count": 0,
      "outputs": []
    },
    {
      "cell_type": "code",
      "metadata": {
        "id": "9gpxt8VsVTL-",
        "colab_type": "code",
        "colab": {}
      },
      "source": [
        "#한국인 데이터를 train과 test로 나누기\n",
        "kx_train, kx_test, ky_train, ky_test = train_test_split(koreans, koreans_label, test_size=0.1,random_state = 64)"
      ],
      "execution_count": 0,
      "outputs": []
    },
    {
      "cell_type": "code",
      "metadata": {
        "id": "3Y9HuoCo48_3",
        "colab_type": "code",
        "colab": {}
      },
      "source": [
        "#학습된 모델 불러오기\n",
        "model2 = load_model('/content/drive/My Drive/Faces Project/model2.h5')"
      ],
      "execution_count": 0,
      "outputs": []
    },
    {
      "cell_type": "code",
      "metadata": {
        "id": "vXH28w_GVpwG",
        "colab_type": "code",
        "colab": {}
      },
      "source": [
        "#한국인 데이터로 저장된 모델 평가\n",
        "loss, accuracy = model2.evaluate(kx_test, ky_test, verbose = 1)\n",
        "print(\"loss: \",loss)\n",
        "print(\"accuracy: \",accuracy*100,'%')"
      ],
      "execution_count": 0,
      "outputs": []
    },
    {
      "cell_type": "markdown",
      "metadata": {
        "id": "0UUEvzLOccNb",
        "colab_type": "text"
      },
      "source": [
        "# 한국인 데이터로 모델 훈련시키기"
      ]
    },
    {
      "cell_type": "code",
      "metadata": {
        "id": "qofUi13Bng1x",
        "colab_type": "code",
        "colab": {}
      },
      "source": [
        "model22 = make_model()\n",
        "model_compile(model22,0.0001)    \n",
        "\n",
        "history = model22.fit(kx_train, ky_train,\n",
        "        batch_size=256,\n",
        "        epochs=200,\n",
        "        verbose=1)\n",
        "loss, accuracy = model22.evaluate(kx_test, ky_test, verbose = 1)\n",
        "print(\"loss: \",loss)\n",
        "print(\"accuracy: \",accuracy*100,'%')"
      ],
      "execution_count": 0,
      "outputs": []
    },
    {
      "cell_type": "code",
      "metadata": {
        "id": "nWgPIKjS6f7N",
        "colab_type": "code",
        "colab": {}
      },
      "source": [
        "model_eval(model22)"
      ],
      "execution_count": 0,
      "outputs": []
    },
    {
      "cell_type": "markdown",
      "metadata": {
        "id": "R3VVTf7zu3VE",
        "colab_type": "text"
      },
      "source": [
        "#공유폴더에 있는 한국인 데이터들 불러오기"
      ]
    },
    {
      "cell_type": "code",
      "metadata": {
        "id": "E-TKXIJmc7lh",
        "colab_type": "code",
        "colab": {}
      },
      "source": [
        "imgs = glob.glob('/content/drive/My Drive/Faces Project/Images_12170151/*.png')\n",
        "koreans2 = []\n",
        "for path in imgs:\n",
        "    img = cv2.imread(path)\n",
        "    img2 = cv2.cvtColor(img, cv2.COLOR_BGR2RGB)\n",
        "    img3 = cv2.cvtColor(img2, cv2.COLOR_BGR2GRAY)\n",
        "    img4 = cv2.resize(img3, (48,48), interpolation = cv2.INTER_LINEAR)\n",
        "    img5 = img_to_array(img4)\n",
        "    koreans2.append(img5)\n",
        "\n",
        "koreans2 = np.asarray(koreans2, dtype=\"float32\")\n",
        "koreans2 /= 255.0\n",
        "\n",
        "data = '/content/drive/My Drive/Faces Project/korean_face_dataset_12170151.csv'\n",
        "koreans_label2=[]\n",
        "with open(data) as csv_file:\n",
        "    csv_reader = csv.reader(csv_file, delimiter=',')\n",
        "    for row_id, row in enumerate(csv_reader):\n",
        "        # skip header\n",
        "        if row_id == 0:\n",
        "            continue\n",
        "        \n",
        "        label = np.zeros(7) + 0.01\n",
        "        label[int(row[0])] = 0.99\n",
        "        koreans_label2.append(label)\n",
        "koreans_label2 = np.asarray(koreans_label2, dtype= \"float32\")"
      ],
      "execution_count": 0,
      "outputs": []
    },
    {
      "cell_type": "code",
      "metadata": {
        "id": "q2Z3ROIHhWZL",
        "colab_type": "code",
        "colab": {}
      },
      "source": [
        "imgs = glob.glob('/content/drive/My Drive/Faces Project/Images_12131569/*.png')\n",
        "koreans3 = []\n",
        "for path in imgs:\n",
        "    img = cv2.imread(path)\n",
        "    img2 = cv2.cvtColor(img, cv2.COLOR_BGR2RGB)\n",
        "    img3 = cv2.cvtColor(img2, cv2.COLOR_BGR2GRAY)\n",
        "    img4 = cv2.resize(img3, (48,48), interpolation = cv2.INTER_LINEAR)\n",
        "    img5 = img_to_array(img4)\n",
        "    koreans3.append(img5)\n",
        "\n",
        "koreans3 = np.asarray(koreans3, dtype=\"float32\")\n",
        "koreans3/= 255.0\n",
        "\n",
        "data = '/content/drive/My Drive/Faces Project/korean_face_dataset_12131569.csv'\n",
        "koreans_label3=[]\n",
        "with open(data) as csv_file:\n",
        "    csv_reader = csv.reader(csv_file, delimiter=',')\n",
        "    for row_id, row in enumerate(csv_reader):\n",
        "        # skip header\n",
        "        if row_id == 0:\n",
        "            continue\n",
        "        \n",
        "        label = np.zeros(7) + 0.01\n",
        "        label[int(row[0])] = 0.99\n",
        "        koreans_label3.append(label)\n",
        "koreans_label3 = np.asarray(koreans_label3, dtype= \"float32\")"
      ],
      "execution_count": 0,
      "outputs": []
    },
    {
      "cell_type": "code",
      "metadata": {
        "id": "jX2G43xJfCoj",
        "colab_type": "code",
        "colab": {}
      },
      "source": [
        "imgs = glob.glob('/content/drive/My Drive/Faces Project/Images_12181617/*.png')\n",
        "koreans4 = []\n",
        "for path in imgs:\n",
        "    img = cv2.imread(path)\n",
        "    img2 = cv2.cvtColor(img, cv2.COLOR_BGR2RGB)\n",
        "    img3 = cv2.cvtColor(img2, cv2.COLOR_BGR2GRAY)\n",
        "    img4 = cv2.resize(img3, (48,48), interpolation = cv2.INTER_LINEAR)\n",
        "    img5 = img_to_array(img4)\n",
        "    koreans4.append(img5)\n",
        "\n",
        "koreans4 = np.asarray(koreans4, dtype=\"float32\")\n",
        "koreans4 /= 255.0\n",
        "\n",
        "data = '/content/drive/My Drive/Faces Project/korean_face_dataset_12181617.csv'\n",
        "koreans_label4=[]\n",
        "with open(data) as csv_file:\n",
        "    csv_reader = csv.reader(csv_file, delimiter=',')\n",
        "    for row_id, row in enumerate(csv_reader):\n",
        "        # skip header\n",
        "        if row_id == 0:\n",
        "            continue\n",
        "        \n",
        "        label = np.zeros(7) + 0.01\n",
        "        label[int(row[0])] = 0.99\n",
        "        koreans_label4.append(label)\n",
        "koreans_label4 = np.asarray(koreans_label4, dtype= \"float32\")"
      ],
      "execution_count": 0,
      "outputs": []
    },
    {
      "cell_type": "code",
      "metadata": {
        "id": "CQUmY5OfhAaR",
        "colab_type": "code",
        "colab": {}
      },
      "source": [
        "imgs = glob.glob('/content/drive/My Drive/Faces Project/Images_12181617/*.png')\n",
        "koreans5 = []\n",
        "for path in imgs:\n",
        "    img = cv2.imread(path)\n",
        "    img2 = cv2.cvtColor(img, cv2.COLOR_BGR2RGB)\n",
        "    img3 = cv2.cvtColor(img2, cv2.COLOR_BGR2GRAY)\n",
        "    img4 = cv2.resize(img3, (48,48), interpolation = cv2.INTER_LINEAR)\n",
        "    img5 = img_to_array(img4)\n",
        "    koreans5.append(img5)\n",
        "\n",
        "koreans5 = np.asarray(koreans5, dtype=\"float32\")\n",
        "koreans5 /= 255.0\n",
        "\n",
        "data = '/content/drive/My Drive/Faces Project/korean_face_dataset_12181617.csv'\n",
        "koreans_label5=[]\n",
        "with open(data) as csv_file:\n",
        "    csv_reader = csv.reader(csv_file, delimiter=',')\n",
        "    for row_id, row in enumerate(csv_reader):\n",
        "        # skip header\n",
        "        if row_id == 0:\n",
        "            continue\n",
        "        \n",
        "        label = np.zeros(7) + 0.01\n",
        "        label[int(row[0])] = 0.99\n",
        "        koreans_label5.append(label)\n",
        "koreans_label5 = np.asarray(koreans_label5, dtype= \"float32\")"
      ],
      "execution_count": 0,
      "outputs": []
    },
    {
      "cell_type": "code",
      "metadata": {
        "id": "wiX7CbD_h9va",
        "colab_type": "code",
        "colab": {}
      },
      "source": [
        "#모든 한국인 데이터 합치기\n",
        "kor = np.concatenate((koreans5, koreans4, koreans3, koreans2, kx_train))\n",
        "kor_label = np.concatenate((koreans_label5, koreans_label4, koreans_label3, koreans_label2, ky_train))"
      ],
      "execution_count": 0,
      "outputs": []
    },
    {
      "cell_type": "code",
      "metadata": {
        "id": "aHDPqbWCHPwH",
        "colab_type": "code",
        "colab": {}
      },
      "source": [
        "del koreans5\n",
        "del koreans4\n",
        "del koreans3\n",
        "del koreans2"
      ],
      "execution_count": 0,
      "outputs": []
    },
    {
      "cell_type": "code",
      "metadata": {
        "id": "b5hsgg4l7MHZ",
        "colab_type": "code",
        "colab": {}
      },
      "source": [
        "#모든 한국인 데이터를 합쳐서 훈련시킨 모델\n",
        "model22 = make_model()\n",
        "model_compile(model22,0.0001)    \n",
        "\n",
        "history = model22.fit(kor, kor_label,\n",
        "        batch_size=256,\n",
        "        epochs=200,\n",
        "        verbose=1)\n",
        "loss, accuracy = model22.evaluate(kx_test, ky_test, verbose = 1)\n",
        "print(\"loss: \",loss)\n",
        "print(\"accuracy: \",accuracy*100,'%')"
      ],
      "execution_count": 0,
      "outputs": []
    },
    {
      "cell_type": "code",
      "metadata": {
        "id": "tc0XdHn89SdS",
        "colab_type": "code",
        "colab": {}
      },
      "source": [
        "model_eval(model22)"
      ],
      "execution_count": 0,
      "outputs": []
    },
    {
      "cell_type": "code",
      "metadata": {
        "id": "VbWoRZjpLFdt",
        "colab_type": "code",
        "colab": {}
      },
      "source": [
        "#모든 한국인 데이터를 합치고 Argumentaion해서 훈련시킨 모델\n",
        "model222 = make_model()\n",
        "model_compile(model222,0.0001)    \n",
        "datagen.fit(kor)\n",
        "\n",
        "history = model222.fit_generator(datagen.flow(kor, kor_label, batch_size =128,),\n",
        "        steps_per_epochs = kor.shape[0]/128, epochs = 200, verbose=1)\n",
        "        epochs=200,\n",
        "        verbose=1)\n",
        "loss, accuracy = model222.evaluate(kx_test, ky_test, verbose = 1)\n",
        "print(\"loss: \",loss)\n",
        "print(\"accuracy: \",accuracy*100,'%')"
      ],
      "execution_count": 0,
      "outputs": []
    },
    {
      "cell_type": "markdown",
      "metadata": {
        "id": "5jmtc6xOQrjB",
        "colab_type": "text"
      },
      "source": [
        "# 14만개의 유러피안데이터와 40배 부풀린 한국인 데이터로 모델 학습"
      ]
    },
    {
      "cell_type": "code",
      "metadata": {
        "id": "Ht3pHiDBlAEQ",
        "colab_type": "code",
        "colab": {}
      },
      "source": [
        "#모델 불러오기\n",
        "model2 = load_model('/content/drive/My Drive/Faces Project/model2.h5')"
      ],
      "execution_count": 0,
      "outputs": []
    },
    {
      "cell_type": "code",
      "metadata": {
        "id": "obi-IXSUyDJ1",
        "colab_type": "code",
        "colab": {}
      },
      "source": [
        "#이미지를 생성하는 함수\n",
        "#이미지를 한개씩 받아서 40배로 늘려줌\n",
        "def generate_image2(images, label):\n",
        "    copy_label=[]\n",
        "    arr=[]\n",
        "    images = np.expand_dims(images, axis=0) #(48,48,1)차원에서 0번째에 차원하나 추가시킴\n",
        "    it = datagen.flow(images, batch_size = 1)   \n",
        "    #fig = plt.figure(figsize = (48,48))\n",
        "    for i in range(50):     #40개씩 생성\n",
        "        #plt.subplot (10,3,i+1)\n",
        "        batch = it.next()\n",
        "        arr.append(batch.reshape(48,48,1))  #생성된 이미지를 arr에 저장\n",
        "        copy_label.append(label)\n",
        "        #plt.imshow(batch.reshape(48,48))\n",
        "    #plt.show()\n",
        "    arr = np.array(arr)\n",
        "    copy_label = np.array(copy_label)\n",
        "    return arr , copy_label"
      ],
      "execution_count": 0,
      "outputs": []
    },
    {
      "cell_type": "code",
      "metadata": {
        "id": "xCcUl9CC2fwE",
        "colab_type": "code",
        "colab": {}
      },
      "source": [
        "new_k =[]\n",
        "new_k_lable=[]\n",
        "new_k.append(kor[0])\n",
        "new_k_lable.append(kor_label[0])\n",
        "new_k = np.array(new_k)\n",
        "new_k_lable = np.array(new_k_lable)\n"
      ],
      "execution_count": 0,
      "outputs": []
    },
    {
      "cell_type": "code",
      "metadata": {
        "id": "dQFdFM6R2XuF",
        "colab_type": "code",
        "colab": {}
      },
      "source": [
        "# 공유폴더의 한국인 데이터 argument하기 \n",
        "for i in range(kor.shape[0]):\n",
        "    a, b =generate_image2(kor[i], kor_label[i])\n",
        "    new_k = np.concatenate((a, new_k))\n",
        "    new_k_lable = np.concatenate((b, new_k_lable))\n"
      ],
      "execution_count": 0,
      "outputs": []
    },
    {
      "cell_type": "code",
      "metadata": {
        "id": "CiKf_gFyC4kV",
        "colab_type": "code",
        "colab": {}
      },
      "source": [
        "#데이터가 40배가 된 것을 확인\n",
        "print(\"공유폴더 한국인 이미지 원본:\",kor.shape)\n",
        "print(\"40배로 증가된 이미지: \",new_k.shape)"
      ],
      "execution_count": 0,
      "outputs": []
    },
    {
      "cell_type": "code",
      "metadata": {
        "id": "_r5zFBFyDMFQ",
        "colab_type": "code",
        "colab": {}
      },
      "source": [
        "#증가된 유러피안과 한국인 데이터를 모두 합침\n",
        "x = np.concatenate((new_k, x_train))\n",
        "y = np.concatenate((new_k_lable, y_train))"
      ],
      "execution_count": 0,
      "outputs": []
    },
    {
      "cell_type": "code",
      "metadata": {
        "id": "Bf44tgO2NM07",
        "colab_type": "code",
        "colab": {}
      },
      "source": [
        "#검증셋과 훈련셋으로 나눔\n",
        "x, x_val, y, y_val = train_test_split(x, y, test_size=0.1,random_state = 64)"
      ],
      "execution_count": 0,
      "outputs": []
    },
    {
      "cell_type": "code",
      "metadata": {
        "id": "fnJonCfEM4eW",
        "colab_type": "code",
        "colab": {}
      },
      "source": [
        "#증가된 한국인데이터와 유러피안 데이터로 학습 및 평가\n",
        "model3 = make_model()\n",
        "model_compile(model3,0.00008)    #lr = 0.00008\n",
        "history = model3.fit(x, y,\n",
        "        batch_size=256,\n",
        "        epochs=100,\n",
        "        validation_data=(x_val, y_val),\n",
        "        callbacks = [early_stopping],   #조기종료함수\n",
        "        verbose=1)\n",
        "show_history(history)\n",
        "model_eval(model3)"
      ],
      "execution_count": 0,
      "outputs": []
    },
    {
      "cell_type": "code",
      "metadata": {
        "id": "FIadz037ELmN",
        "colab_type": "code",
        "colab": {}
      },
      "source": [
        "model2.summary()"
      ],
      "execution_count": 0,
      "outputs": []
    },
    {
      "cell_type": "code",
      "metadata": {
        "id": "9zQlkt6bEoKK",
        "colab_type": "code",
        "colab": {}
      },
      "source": [
        "loss, accuracy = model2.evaluate(kx_test, ky_test, verbose = 1)\n",
        "print(\"loss: \",loss)\n",
        "print(\"accuracy: \",accuracy*100,'%')"
      ],
      "execution_count": 0,
      "outputs": []
    },
    {
      "cell_type": "code",
      "metadata": {
        "id": "djjkUvd5R8Cs",
        "colab_type": "code",
        "colab": {}
      },
      "source": [
        "loss, accuracy = model2.evaluate(x_test, y_test, verbose = 1)\n",
        "print(\"loss: \",loss)\n",
        "print(\"accuracy: \",accuracy*100,'%')"
      ],
      "execution_count": 0,
      "outputs": []
    },
    {
      "cell_type": "markdown",
      "metadata": {
        "id": "7cN_Uq7B_X_C",
        "colab_type": "text"
      },
      "source": [
        "#새로운 모델구조 만들어보기"
      ]
    },
    {
      "cell_type": "code",
      "metadata": {
        "id": "Qrx_q-LLc-fT",
        "colab_type": "code",
        "colab": {}
      },
      "source": [
        "input_shape = (48, 48, 1)\n",
        "   \n",
        "model = Sequential()\n",
        "model.add(Conv2D(32, kernel_size=(3, 3), input_shape=input_shape, activation='relu', padding='same'))\n",
        "model.add(Conv2D(32, (3, 3), activation='relu', padding='same'))\n",
        "model.add(MaxPooling2D(pool_size=(2, 2)))\n",
        "\n",
        "model.add(Conv2D(64, (3, 3), activation='relu', padding='same'))\n",
        "model.add(Conv2D(64, (3, 3), activation='relu', padding='same'))\n",
        "model.add(BatchNormalization())\n",
        "model.add(MaxPooling2D(pool_size=(2, 2)))\n",
        "\n",
        "\n",
        "model.add(Conv2D(128, (3, 3), activation='relu', padding='same'))\n",
        "model.add(Conv2D(128, (3, 3), activation='relu', padding='same'))\n",
        "model.add(BatchNormalization())\n",
        "\n",
        "model.add(Flatten())\n",
        "model.add(Dense(128, activation='relu'))\n",
        "model.add(BatchNormalization())\n",
        "model.add(Dense(64, activation='relu'))\n",
        "model.add(BatchNormalization())\n",
        "model.add(Dense(32, activation='relu'))\n",
        "model.add(BatchNormalization())\n",
        "model.add(Dropout(0.3))\n",
        "model.add(Dense(7, activation='softmax'))"
      ],
      "execution_count": 0,
      "outputs": []
    },
    {
      "cell_type": "code",
      "metadata": {
        "id": "HnRhHNlF_jvR",
        "colab_type": "code",
        "colab": {}
      },
      "source": [
        "model_compile(model,0.0001)    \n",
        "history = model.fit(x, y,\n",
        "        batch_size=256,\n",
        "        epochs=50,\n",
        "        validation_data=(x_val, y_val),\n",
        "        callbacks = [early_stopping],   #조기종료함수\n",
        "        verbose=1)\n",
        "show_history(history)\n",
        "model_eval(model)"
      ],
      "execution_count": 0,
      "outputs": []
    },
    {
      "cell_type": "code",
      "metadata": {
        "id": "KEUcUFso_tNW",
        "colab_type": "code",
        "colab": {}
      },
      "source": [
        "loss, accuracy = model.evaluate(x_test, y_test, verbose = 1)\n",
        "print(\"loss: \",loss)\n",
        "print(\"accuracy: \",accuracy*100,'%')"
      ],
      "execution_count": 0,
      "outputs": []
    },
    {
      "cell_type": "code",
      "metadata": {
        "id": "HkackMFs_wn4",
        "colab_type": "code",
        "colab": {}
      },
      "source": [
        "loss, accuracy = model.evaluate(kx_test, ky_test, verbose = 1)\n",
        "print(\"loss: \",loss)\n",
        "print(\"accuracy: \",accuracy*100,'%')"
      ],
      "execution_count": 0,
      "outputs": []
    },
    {
      "cell_type": "code",
      "metadata": {
        "id": "gOXeGKxEMFkd",
        "colab_type": "code",
        "colab": {}
      },
      "source": [
        ""
      ],
      "execution_count": 0,
      "outputs": []
    }
  ]
}
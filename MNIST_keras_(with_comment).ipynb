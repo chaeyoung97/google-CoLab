{
  "nbformat": 4,
  "nbformat_minor": 0,
  "metadata": {
    "colab": {
      "name": "MNIST keras (with comment)",
      "provenance": [],
      "collapsed_sections": [],
      "authorship_tag": "ABX9TyMD25axZ/zmeEsCzG9zRy2I",
      "include_colab_link": true
    },
    "kernelspec": {
      "name": "python3",
      "display_name": "Python 3"
    },
    "accelerator": "GPU"
  },
  "cells": [
    {
      "cell_type": "markdown",
      "metadata": {
        "id": "view-in-github",
        "colab_type": "text"
      },
      "source": [
        "<a href=\"https://colab.research.google.com/github/chaeyoung97/google-CoLab/blob/master/MNIST_keras_(with_comment).ipynb\" target=\"_parent\"><img src=\"https://colab.research.google.com/assets/colab-badge.svg\" alt=\"Open In Colab\"/></a>"
      ]
    },
    {
      "cell_type": "markdown",
      "metadata": {
        "id": "Bx0TexHJbUTG",
        "colab_type": "text"
      },
      "source": [
        "#MNIST DATASET 불러오기"
      ]
    },
    {
      "cell_type": "code",
      "metadata": {
        "id": "70ZPGGqdbXE5",
        "colab_type": "code",
        "outputId": "e9c17a72-38e0-47dc-df1d-959b608da2b5",
        "colab": {
          "base_uri": "https://localhost:8080/",
          "height": 88
        }
      },
      "source": [
        "#import the mnist dataset\n",
        "from keras.datasets import mnist\n",
        "\n",
        "#load train data & test data \n",
        "(x_train, y_train), (x_test, y_test) = mnist.load_data()\n",
        "print(\"x_train: \", x_train.shape)\n",
        "print(\"y_train: \", y_train.shape)\n",
        "print(\"x_text: \", x_test.shape)\n",
        "print(\"y_test: \",y_test.shape)"
      ],
      "execution_count": 0,
      "outputs": [
        {
          "output_type": "stream",
          "text": [
            "x_train:  (60000, 28, 28)\n",
            "y_train:  (60000,)\n",
            "x_text:  (10000, 28, 28)\n",
            "y_test:  (10000,)\n"
          ],
          "name": "stdout"
        }
      ]
    },
    {
      "cell_type": "markdown",
      "metadata": {
        "id": "5IiAeVuXbytT",
        "colab_type": "text"
      },
      "source": [
        "#DATA Visualization"
      ]
    },
    {
      "cell_type": "code",
      "metadata": {
        "id": "Alllx9Wvbr-A",
        "colab_type": "code",
        "outputId": "00095200-8eee-474b-cf3e-d00c6994a445",
        "colab": {
          "base_uri": "https://localhost:8080/",
          "height": 300
        }
      },
      "source": [
        "import matplotlib.pyplot as plt\n",
        "%matplotlib inline\n",
        "\n",
        "print(\"Sample Data from the test set: \")\n",
        "#plt.imshow(x_test[9].reshape(28,28)) #컬러 출력\n",
        "plt.imshow(x_test[9].reshape(28,28), cmap=\"Greys\")  #cmap = \"Greys\"로 흑백 출력\n",
        "print(\"Lable: \", y_test[9])"
      ],
      "execution_count": 0,
      "outputs": [
        {
          "output_type": "stream",
          "text": [
            "Sample Data from the test set: \n",
            "Lable:  9\n"
          ],
          "name": "stdout"
        },
        {
          "output_type": "display_data",
          "data": {
            "image/png": "[encoded data removed]",
            "text/plain": [
              "<Figure size 432x288 with 1 Axes>"
            ]
          },
          "metadata": {
            "tags": [],
            "needs_background": "light"
          }
        }
      ]
    },
    {
      "cell_type": "markdown",
      "metadata": {
        "id": "T2o7qYdjepWj",
        "colab_type": "text"
      },
      "source": [
        "#DATA Preprocessing & DATA Normalization"
      ]
    },
    {
      "cell_type": "code",
      "metadata": {
        "id": "D1iBEAGGdh4q",
        "colab_type": "code",
        "colab": {}
      },
      "source": [
        "#reshaping  data format\n",
        "# a nunmber of data sample * 28 * 28 * 1(channel)\n",
        "x_train = x_train.reshape(x_train.shape[0], 28, 28, 1)\n",
        "x_test = x_test.reshape(x_test.shape[0], 28, 28, 1)\n",
        "\n",
        "#convert data to float to do the division operation\n",
        "x_train = x_train.astype('float32')\n",
        "x_test = x_test.astype('float32')\n",
        "\n",
        "#feature scaling to avoid overfitting and to fast convergence of function\n",
        "#cnn converg faster on[0-1]data than on [0-255]\n",
        "x_train /= 255\n",
        "x_test /= 255     # 0~1사이의 실수"
      ],
      "execution_count": 0,
      "outputs": []
    },
    {
      "cell_type": "markdown",
      "metadata": {
        "id": "YBhAi6MbgAaX",
        "colab_type": "text"
      },
      "source": [
        "#BUILDING THE CNN\n",
        "\n",
        "\n"
      ]
    },
    {
      "cell_type": "code",
      "metadata": {
        "id": "6LL6gzdcfGR4",
        "colab_type": "code",
        "colab": {}
      },
      "source": [
        "#import the keras packages that we need\n",
        "import tensorflow as tf\n",
        "from tensorflow import keras\n",
        "from tensorflow.keras import layers, models\n",
        "\n",
        "#set the CNN model\n",
        "model = models.Sequential()"
      ],
      "execution_count": 0,
      "outputs": []
    },
    {
      "cell_type": "code",
      "metadata": {
        "id": "dndlOSJTgwaP",
        "colab_type": "code",
        "colab": {}
      },
      "source": [
        "###Convolultion###\n",
        "#32 : convolution filters 수\n",
        "#(3,3) : convolution kernel(행, 열)\n",
        "#input_shape : 입력형태 (모델의 첫 레이어에서만 정의하면 됨 나머지 레이어는 그 전 레이어의 output이 input으로 들어와서 input_shape정할 필요 없음) \n",
        "\n",
        "###activation function###\n",
        "#relu : hidden layer에 주로 사용 (avoid negative value)\n",
        "#sigmoid : 이진 분류 문제에서 output layer에 주로 사용(binaty classification)\n",
        "#softmax : 다중 클래스 분류에서 output layer에 주로 사용(multi class classification)\n",
        "\n",
        "\n",
        "#CNN architecture is in [[convolution2D->relu]*2 -> [MaxPooling]]*2 -> [Flatten] -> [Dense->relu]*2 -> [Dense->softmax]\n",
        "\n",
        "model.add(layers.Convolution2D(32, (5,5), input_shape= (28, 28, 1), activation = \"relu\"))\n",
        "model.add(layers.Convolution2D(32, (5,5), activation = 'relu'))\n",
        "model.add(layers.MaxPooling2D(pool_size = (2,2)))\n",
        "\n",
        "model.add(layers.Convolution2D(64, (3,3), activation='relu'))\n",
        "model.add(layers.Convolution2D(64, (3,3), activation = 'relu'))\n",
        "model.add(layers.Dropout(0.5)) # 50% drop\n",
        "model.add(layers.MaxPooling2D(pool_size = (2,2)))\n",
        "\n",
        "#Flattening (spatioal information)\n",
        "model.add(layers.Flatten())\n",
        "#Full connected layer\n",
        "model.add(layers.Dense(256, activation='relu'))\n",
        "model.add(layers.Dropout(0.3)) # 30% drop\n",
        "model.add(layers.Dense(64,  activation='relu'))\n",
        "model.add(layers.Dense(10,  activation='sigmoid'))"
      ],
      "execution_count": 0,
      "outputs": []
    },
    {
      "cell_type": "code",
      "metadata": {
        "id": "WTDvOM5Brggv",
        "colab_type": "code",
        "colab": {}
      },
      "source": [
        "#metrics : 모델 평가 지표\n",
        "#loss : loss  function  여기선 다중 클래스 문제이므로 categorical_crossentropy(for multi class)사용함\n",
        "#optimizer : 최적의 가중치를 찾는데 사용되는 최적화 알고리즘 (경사 하강법 알고리즘 중 하나인 adam사용)\n",
        "model.compile(optimizer ='adam', loss = 'sparse_categorical_crossentropy', metrics = ['accuracy'])"
      ],
      "execution_count": 0,
      "outputs": []
    },
    {
      "cell_type": "code",
      "metadata": {
        "id": "gOZy9zSvhZoD",
        "colab_type": "code",
        "outputId": "2e492022-9aca-40fe-ed73-31d02bba490c",
        "colab": {
          "base_uri": "https://localhost:8080/",
          "height": 586
        }
      },
      "source": [
        "\n",
        "model.summary()"
      ],
      "execution_count": 0,
      "outputs": [
        {
          "output_type": "stream",
          "text": [
            "Model: \"sequential_14\"\n",
            "_________________________________________________________________\n",
            "Layer (type)                 Output Shape              Param #   \n",
            "=================================================================\n",
            "conv2d_65 (Conv2D)           (None, 24, 24, 32)        832       \n",
            "_________________________________________________________________\n",
            "conv2d_66 (Conv2D)           (None, 20, 20, 32)        25632     \n",
            "_________________________________________________________________\n",
            "max_pooling2d_23 (MaxPooling (None, 10, 10, 32)        0         \n",
            "_________________________________________________________________\n",
            "conv2d_67 (Conv2D)           (None, 8, 8, 64)          18496     \n",
            "_________________________________________________________________\n",
            "conv2d_68 (Conv2D)           (None, 6, 6, 64)          36928     \n",
            "_________________________________________________________________\n",
            "dropout_17 (Dropout)         (None, 6, 6, 64)          0         \n",
            "_________________________________________________________________\n",
            "max_pooling2d_24 (MaxPooling (None, 3, 3, 64)          0         \n",
            "_________________________________________________________________\n",
            "flatten_11 (Flatten)         (None, 576)               0         \n",
            "_________________________________________________________________\n",
            "dense_33 (Dense)             (None, 256)               147712    \n",
            "_________________________________________________________________\n",
            "dropout_18 (Dropout)         (None, 256)               0         \n",
            "_________________________________________________________________\n",
            "dense_34 (Dense)             (None, 64)                16448     \n",
            "_________________________________________________________________\n",
            "dense_35 (Dense)             (None, 10)                650       \n",
            "=================================================================\n",
            "Total params: 246,698\n",
            "Trainable params: 246,698\n",
            "Non-trainable params: 0\n",
            "_________________________________________________________________\n"
          ],
          "name": "stdout"
        }
      ]
    },
    {
      "cell_type": "code",
      "metadata": {
        "id": "SI0OZE-TqhpF",
        "colab_type": "code",
        "outputId": "aad40ec3-0cce-4af9-cad1-8a43d4c64d27",
        "colab": {
          "base_uri": "https://localhost:8080/",
          "height": 1000
        }
      },
      "source": [
        "from IPython.display import SVG\n",
        "from tensorflow.keras.utils import plot_model\n",
        "\n",
        "plot_model(model, to_file='model.png')"
      ],
      "execution_count": 0,
      "outputs": [
        {
          "output_type": "execute_result",
          "data": {
            "image/png": "[encoded data removed]",
            "text/plain": [
              "<IPython.core.display.Image object>"
            ]
          },
          "metadata": {
            "tags": []
          },
          "execution_count": 161
        }
      ]
    },
    {
      "cell_type": "code",
      "metadata": {
        "id": "8zv61nCMyjdB",
        "colab_type": "code",
        "outputId": "120c9fef-3b61-4401-83b9-3b668330a8a8",
        "colab": {
          "base_uri": "https://localhost:8080/",
          "height": 728
        }
      },
      "source": [
        "#epochs : iteration\n",
        "history = model.fit(x = x_train, y = y_train, epochs =20)"
      ],
      "execution_count": 0,
      "outputs": [
        {
          "output_type": "stream",
          "text": [
            "Epoch 1/20\n",
            "1875/1875 [==============================] - 6s 3ms/step - loss: 0.1728 - accuracy: 0.9457\n",
            "Epoch 2/20\n",
            "1875/1875 [==============================] - 6s 3ms/step - loss: 0.0608 - accuracy: 0.9821\n",
            "Epoch 3/20\n",
            "1875/1875 [==============================] - 6s 3ms/step - loss: 0.0509 - accuracy: 0.9849\n",
            "Epoch 4/20\n",
            "1875/1875 [==============================] - 6s 3ms/step - loss: 0.0397 - accuracy: 0.9882\n",
            "Epoch 5/20\n",
            "1875/1875 [==============================] - 6s 3ms/step - loss: 0.0358 - accuracy: 0.9900\n",
            "Epoch 6/20\n",
            "1875/1875 [==============================] - 6s 3ms/step - loss: 0.0334 - accuracy: 0.9905\n",
            "Epoch 7/20\n",
            "1875/1875 [==============================] - 6s 3ms/step - loss: 0.0298 - accuracy: 0.9914\n",
            "Epoch 8/20\n",
            "1875/1875 [==============================] - 6s 3ms/step - loss: 0.0285 - accuracy: 0.9915\n",
            "Epoch 9/20\n",
            "1875/1875 [==============================] - 6s 3ms/step - loss: 0.0236 - accuracy: 0.9930\n",
            "Epoch 10/20\n",
            "1875/1875 [==============================] - 6s 3ms/step - loss: 0.0255 - accuracy: 0.9927\n",
            "Epoch 11/20\n",
            "1875/1875 [==============================] - 6s 3ms/step - loss: 0.0219 - accuracy: 0.9935\n",
            "Epoch 12/20\n",
            "1875/1875 [==============================] - 6s 3ms/step - loss: 0.0228 - accuracy: 0.9934\n",
            "Epoch 13/20\n",
            "1875/1875 [==============================] - 6s 3ms/step - loss: 0.0215 - accuracy: 0.9942\n",
            "Epoch 14/20\n",
            "1875/1875 [==============================] - 6s 3ms/step - loss: 0.0179 - accuracy: 0.9945\n",
            "Epoch 15/20\n",
            "1875/1875 [==============================] - 6s 3ms/step - loss: 0.0181 - accuracy: 0.9949\n",
            "Epoch 16/20\n",
            "1875/1875 [==============================] - 6s 3ms/step - loss: 0.0181 - accuracy: 0.9950\n",
            "Epoch 17/20\n",
            "1875/1875 [==============================] - 6s 3ms/step - loss: 0.0186 - accuracy: 0.9950\n",
            "Epoch 18/20\n",
            "1875/1875 [==============================] - 6s 3ms/step - loss: 0.0180 - accuracy: 0.9951\n",
            "Epoch 19/20\n",
            "1875/1875 [==============================] - 6s 3ms/step - loss: 0.0153 - accuracy: 0.9956\n",
            "Epoch 20/20\n",
            "1875/1875 [==============================] - 6s 3ms/step - loss: 0.0186 - accuracy: 0.9949\n"
          ],
          "name": "stdout"
        }
      ]
    },
    {
      "cell_type": "code",
      "metadata": {
        "id": "Wh5KcxqSzLTw",
        "colab_type": "code",
        "outputId": "70c8b6ff-2150-427f-bcf0-cb3ff1007d55",
        "colab": {
          "base_uri": "https://localhost:8080/",
          "height": 52
        }
      },
      "source": [
        "#Evaluating the classifier\n",
        "test_loss, test_accuracy = model.evaluate(x_test, y_test)\n",
        "print(\"test accuracy: \",test_accuracy)"
      ],
      "execution_count": 0,
      "outputs": [
        {
          "output_type": "stream",
          "text": [
            "313/313 [==============================] - 1s 2ms/step - loss: 0.0211 - accuracy: 0.9938\n",
            "test accuracy:  0.9937999844551086\n"
          ],
          "name": "stdout"
        }
      ]
    },
    {
      "cell_type": "markdown",
      "metadata": {
        "id": "i0wGZvcodEbC",
        "colab_type": "text"
      },
      "source": [
        "#시각화 VISUALIZATION"
      ]
    },
    {
      "cell_type": "code",
      "metadata": {
        "id": "jHszOSUyO2n5",
        "colab_type": "code",
        "outputId": "d2572372-8cfc-40c7-95c5-f906b0ba068d",
        "colab": {
          "base_uri": "https://localhost:8080/",
          "height": 35
        }
      },
      "source": [
        "print(history.history.keys())\n",
        "#loss: 매 epoch마다의 훈련 손실 값\n",
        "#acc: 매 epoch마다의 훈련 정확도"
      ],
      "execution_count": 0,
      "outputs": [
        {
          "output_type": "stream",
          "text": [
            "dict_keys(['loss', 'accuracy'])\n"
          ],
          "name": "stdout"
        }
      ]
    },
    {
      "cell_type": "code",
      "metadata": {
        "id": "GZhtTCejdKEX",
        "colab_type": "code",
        "outputId": "d250ed5f-b4e4-4670-83e1-20e497d4f9ab",
        "colab": {
          "base_uri": "https://localhost:8080/",
          "height": 295
        }
      },
      "source": [
        "\n",
        "plt.plot(history.history['accuracy'])\n",
        "plt.plot(history.history['loss'], 'r')\n",
        "plt.title(\"traing data\")\n",
        "plt.xlabel('epoch')\n",
        "plt.legend(['accuracy','loss'], loc = 'upper left')\n",
        "plt.show()"
      ],
      "execution_count": 0,
      "outputs": [
        {
          "output_type": "display_data",
          "data": {
            "image/png": "[encoded data removed]",
            "text/plain": [
              "<Figure size 432x288 with 1 Axes>"
            ]
          },
          "metadata": {
            "tags": [],
            "needs_background": "light"
          }
        }
      ]
    },
    {
      "cell_type": "code",
      "metadata": {
        "id": "Zc40hmbCtHq8",
        "colab_type": "code",
        "colab": {}
      },
      "source": [
        "'''\n",
        "from IPython.display import SVG\n",
        "from keras.utils.vis_utils import model_to_dot\n",
        "\n",
        "SVG(model_to_dot(model, show_shapes = True).create(prog='dot', format='svg'))\n",
        "\n",
        "CNN 모델의 구조를 좀 더 보기 편하게 가시화하는 코드인데 일단 현재는 에러뜸 \n",
        "'''"
      ],
      "execution_count": 0,
      "outputs": []
    },
    {
      "cell_type": "code",
      "metadata": {
        "id": "YuBDfrqbwCjz",
        "colab_type": "code",
        "colab": {}
      },
      "source": [
        ""
      ],
      "execution_count": 0,
      "outputs": []
    }
  ]
}
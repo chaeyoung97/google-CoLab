{
  "nbformat": 4,
  "nbformat_minor": 0,
  "metadata": {
    "colab": {
      "name": "DACON_위성관측 데이터 활용 강수량 산출",
      "provenance": [],
      "collapsed_sections": [],
      "machine_shape": "hm",
      "mount_file_id": "1z81Gs9If-BYhGzO6CI6BKOspXfSUxM8O",
      "authorship_tag": "ABX9TyPk94hEm1WK6kMFjDw2b2Sx",
      "include_colab_link": true
    },
    "kernelspec": {
      "name": "python3",
      "display_name": "Python 3"
    },
    "accelerator": "GPU"
  },
  "cells": [
    {
      "cell_type": "markdown",
      "metadata": {
        "id": "view-in-github",
        "colab_type": "text"
      },
      "source": [
        "<a href=\"https://colab.research.google.com/github/chaeyoung97/google-CoLab/blob/master/DACON_%EC%9C%84%EC%84%B1%EA%B4%80%EC%B8%A1_%EB%8D%B0%EC%9D%B4%ED%84%B0_%ED%99%9C%EC%9A%A9_%EA%B0%95%EC%88%98%EB%9F%89_%EC%82%B0%EC%B6%9C.ipynb\" target=\"_parent\"><img src=\"https://colab.research.google.com/assets/colab-badge.svg\" alt=\"Open In Colab\"/></a>"
      ]
    },
    {
      "cell_type": "code",
      "metadata": {
        "id": "wvU034-i8ozZ",
        "colab_type": "code",
        "colab": {}
      },
      "source": [
        "from google.colab import drive\n",
        "drive.mount('/gdrive')\n"
      ],
      "execution_count": 0,
      "outputs": []
    },
    {
      "cell_type": "code",
      "metadata": {
        "id": "PWtVuL00Dpb4",
        "colab_type": "code",
        "colab": {}
      },
      "source": [
        "!unzip -q \"/gdrive/My Drive/train.zip\" -d \"/train\""
      ],
      "execution_count": 0,
      "outputs": []
    },
    {
      "cell_type": "code",
      "metadata": {
        "id": "Dn2_xhSzDtfd",
        "colab_type": "code",
        "colab": {}
      },
      "source": [
        "!unzip -q \"/gdrive/My Drive/test.zip\" -d \"/test\""
      ],
      "execution_count": 0,
      "outputs": []
    },
    {
      "cell_type": "code",
      "metadata": {
        "id": "Yee_DJog87Bd",
        "colab_type": "code",
        "colab": {}
      },
      "source": [
        "import glob\n",
        "import pandas as pd\n",
        "import numpy as np\n",
        "import matplotlib.pylab as plt\n",
        "import seaborn as sns\n",
        "from tqdm import tqdm\n",
        "import matplotlib.pyplot as plt\n",
        "import tensorflow as tf\n",
        "import os\n",
        "import random\n",
        "from tensorflow.keras.layers import Dense, Conv2D, Dropout, Conv2DTranspose, MaxPooling2D, BatchNormalization, Activation, concatenate,Flatten,Dense, Input, GlobalAveragePooling2D\n",
        "from tensorflow.keras import Model\n",
        "from tensorflow.keras.datasets.mnist import load_data\n",
        "from tensorflow.keras.models import load_model, Model\n",
        "from sklearn.model_selection import KFold\n",
        "import warnings\n",
        " \n",
        "warnings.filterwarnings(\"ignore\")"
      ],
      "execution_count": 0,
      "outputs": []
    },
    {
      "cell_type": "code",
      "metadata": {
        "id": "h4BhUPKN-7Lj",
        "colab_type": "code",
        "colab": {}
      },
      "source": [
        "# 재생산성을 위해 시드 고정\n",
        "np.random.seed(7)\n",
        "random.seed(7)\n",
        "tf.random.set_seed(7)"
      ],
      "execution_count": 0,
      "outputs": []
    },
    {
      "cell_type": "markdown",
      "metadata": {
        "id": "v1OsUCffK8BW",
        "colab_type": "text"
      },
      "source": [
        "#데이터 불러오기\n",
        "- 0~10 채널만 불러오기\n",
        "\n",
        "- 50개 이상의 픽셀에 강수량이 기록된 이미지만 사용"
      ]
    },
    {
      "cell_type": "code",
      "metadata": {
        "id": "XG5irASWLcVg",
        "colab_type": "code",
        "colab": {}
      },
      "source": [
        "x_train =[]\n",
        "y_train = []\n",
        "X_test = []\n",
        "\n",
        "def trainGenerator():\n",
        "    train_path = '/train'\n",
        "    train_files = sorted(glob.glob(train_path+ '/*'))\n",
        "\n",
        "    #dqdm : for문의 상태바를 나타내는 라이브러리 \n",
        "    for file in tqdm(train_files, desc = 'train'):\n",
        "        dataset = np.load(file).astype('float32')\n",
        "        target = dataset[:,:,-1].reshape(40,40,1)\n",
        "        cutoff_labels = np.where(target<0, 0 ,target)\n",
        "        feature = dataset[:,:,:10]\n",
        "        if (cutoff_labels > 0).sum() >= 50:\n",
        "            x_train.append(feature)\n",
        "            y_train.append(target)\n",
        "\n",
        "\n",
        "\n",
        "def testGenerator():\n",
        "    test_path = '/test'\n",
        "    test_files = sorted(glob.glob(test_path + '/*'))\n",
        "\n",
        "    for file in tqdm(test_files, desc = 'test'):\n",
        "        dataset = np.load(file).astype('float32')\n",
        "        X_test.append(dataset[:,:,:10])\n",
        "  "
      ],
      "execution_count": 0,
      "outputs": []
    },
    {
      "cell_type": "code",
      "metadata": {
        "id": "0R6wkyyxNZbz",
        "colab_type": "code",
        "colab": {}
      },
      "source": [
        "trainGenerator()\n",
        "testGenerator()"
      ],
      "execution_count": 0,
      "outputs": []
    },
    {
      "cell_type": "code",
      "metadata": {
        "id": "nzG34ZOZfPtP",
        "colab_type": "code",
        "colab": {}
      },
      "source": [
        "#train = np.array(train)\n",
        "test = np.array(X_test)\n",
        "x_train = np.array(x_train)\n",
        "y_train = np.array(y_train)"
      ],
      "execution_count": 0,
      "outputs": []
    },
    {
      "cell_type": "code",
      "metadata": {
        "id": "lteI7E2W9vdl",
        "colab_type": "code",
        "colab": {}
      },
      "source": [
        "print(\"x_train: \",x_train.shape)\n",
        "print(\"y_train: \",y_train.shape)\n",
        "print(\"test: \",test.shape)"
      ],
      "execution_count": 0,
      "outputs": []
    },
    {
      "cell_type": "code",
      "metadata": {
        "id": "-9jvvqjhyaUo",
        "colab_type": "code",
        "colab": {}
      },
      "source": [
        "xtrain = x_train.copy()\n",
        "ytrain = y_train.copy()"
      ],
      "execution_count": 0,
      "outputs": []
    },
    {
      "cell_type": "markdown",
      "metadata": {
        "id": "AW8o7loZS8om",
        "colab_type": "text"
      },
      "source": [
        "#Train data를 Train set 과 Test set으로 분리## \n",
        "- 여기선 test 셋이 따로 있어서 이 함수를 이 용도로 사용하지 않음\n",
        "- 여기선 data를 늘릴 때 램 부족이 나지 않도록 하기 위해서 적절히 갯수를 나누기 위해 사용함\n"
      ]
    },
    {
      "cell_type": "code",
      "metadata": {
        "id": "lrJBRrUfR8Dl",
        "colab_type": "code",
        "colab": {}
      },
      "source": [
        "\n",
        "from sklearn.model_selection import train_test_split\n",
        "\n",
        "def generate_data(x_train, y_train, t_r):\n",
        "    x_train, x_test, y_train, y_test = train_test_split(x_train, y_train, test_size=t_r, random_state=64)\n",
        "    return x_train, y_train, x_test, y_test\n",
        "\n",
        "x_train, y_train, x_test, y_test = generate_data(x_train, y_train,0.025)\n",
        "\n",
        "print(\"x_train: \",x_train.shape)\n",
        "print(\"y_train: \",y_train.shape)\n",
        "print(\"x_test: \",x_test.shape)\n",
        "print(\"y_test: \",y_test.shape)\n",
        "print(\"test: \",test.shape)\n",
        "\n"
      ],
      "execution_count": 0,
      "outputs": []
    },
    {
      "cell_type": "markdown",
      "metadata": {
        "id": "VjgMdjxiJ-W4",
        "colab_type": "text"
      },
      "source": [
        "#데이터 늘리기 \n",
        "- train data를 회전시켜 data를 증가시킴\n",
        "- data_rotate90 함수는 이미지를 시계반대 방향으로 90도 회전시킴\n",
        "- data_rotate90(x_train , y_train, num)     함수의 세번째 인자인 num은 몇번 회전시킬건지를 나타냄\n",
        "\n",
        "  ex) num=2 시계반대방향으로 180도 회전\n",
        "\n",
        "- data_transpose 함수는 이미지를 반전시킴"
      ]
    },
    {
      "cell_type": "code",
      "metadata": {
        "id": "ZBTX14rw8mxA",
        "colab_type": "code",
        "colab": {}
      },
      "source": [
        "def data_rotate90(x_train , y_train, num):\n",
        "    rotate_x = np.zeros_like(x_train)\n",
        "    rotate_y = np.zeros_like(y_train)\n",
        "\n",
        "    for i in range(x_train.shape[0]):\n",
        "        x = np.zeros([40, 40, 10])\n",
        "        y = np.zeros([40, 40,1])\n",
        "        for j in range(10):\n",
        "            x[:,:,j]=np.rot90(x_train[i,:,:,j], num)\n",
        "        y[:,:,0]=np.rot90(y_train[i,:,:,0], num)\n",
        "\n",
        "        rotate_x[i,:,:,:] = x\n",
        "        rotate_y[i,:,:,:] = y\n",
        "\n",
        "    return rotate_x, rotate_y\n",
        "\n",
        "\n",
        "def data_transpose(x_train, y_train):\n",
        "    x = np.zeros_like(x_train)\n",
        "    y = np.zeros_like(y_train)\n",
        "    for i in range(x_train.shape[0]):\n",
        "        for j in range(x_train.shape[3]):\n",
        "            x[i,:,:,j] = x_train[i,:,:,j].T\n",
        "        y[i,:,:,0] = y_train[i,:,:,0].T\n",
        "\n",
        "    return x , y"
      ],
      "execution_count": 0,
      "outputs": []
    },
    {
      "cell_type": "markdown",
      "metadata": {
        "id": "l53Yw5eYLhfR",
        "colab_type": "text"
      },
      "source": [
        "#Loss Function "
      ]
    },
    {
      "cell_type": "code",
      "metadata": {
        "id": "bkJ3YLvSK5V_",
        "colab_type": "code",
        "colab": {}
      },
      "source": [
        "from sklearn.metrics import f1_score\n",
        "\n",
        "def mae(y_true, y_pred) :\n",
        "    \n",
        "    y_true, y_pred = np.array(y_true), np.array(y_pred)\n",
        "    \n",
        "    y_true = y_true.reshape(1, -1)[0]\n",
        "    \n",
        "    y_pred = y_pred.reshape(1, -1)[0]\n",
        "    \n",
        "    over_threshold = y_true >= 0.1\n",
        "    \n",
        "    return np.mean(np.abs(y_true[over_threshold] - y_pred[over_threshold]))\n",
        "\n",
        "def fscore(y_true, y_pred):\n",
        "    \n",
        "    y_true, y_pred = np.array(y_true), np.array(y_pred)\n",
        "    \n",
        "    y_true = y_true.reshape(1, -1)[0]\n",
        "    \n",
        "    y_pred = y_pred.reshape(1, -1)[0]\n",
        "    \n",
        "    remove_NAs = y_true >= 0\n",
        "    \n",
        "    y_true = np.where(y_true[remove_NAs] >= 0.1, 1, 0)\n",
        "    \n",
        "    y_pred = np.where(y_pred[remove_NAs] >= 0.1, 1, 0)\n",
        "    \n",
        "    return(f1_score(y_true, y_pred))\n",
        "\n",
        "def maeOverFscore(y_true, y_pred):\n",
        "    \n",
        "    return mae(y_true, y_pred) / (fscore(y_true, y_pred) + 1e-07)\n",
        "\n",
        "def fscore_keras(y_true, y_pred):\n",
        "    score = tf.py_function(func=fscore, inp=[y_true, y_pred], Tout=tf.float32, name='fscore_keras')\n",
        "    return score\n",
        "\n",
        "def maeOverFscore_keras(y_true, y_pred):\n",
        "    score = tf.py_function(func=maeOverFscore, inp=[y_true, y_pred], Tout=tf.float32,  name='custom_mse') \n",
        "    return score"
      ],
      "execution_count": 0,
      "outputs": []
    },
    {
      "cell_type": "markdown",
      "metadata": {
        "id": "j9qXrULTMD6h",
        "colab_type": "text"
      },
      "source": [
        "#평가 함수 "
      ]
    },
    {
      "cell_type": "code",
      "metadata": {
        "id": "7KBujKCIMDSp",
        "colab_type": "code",
        "colab": {}
      },
      "source": [
        "def mae_over_fscore(y_true, y_pred):\n",
        "    '''\n",
        "    y_true: sample_submission.csv 형태의 실제 값\n",
        "    y_pred: sample_submission.csv 형태의 예측 값\n",
        "    '''\n",
        "\n",
        "\n",
        "    y_true = np.array(y_true)\n",
        "    y_true = y_true.reshape(1, -1)[0]  \n",
        "    \n",
        "    y_pred = np.array(y_pred)\n",
        "    y_pred = y_pred.reshape(1, -1)[0]\n",
        "    \n",
        "    # 실제값이 0.1 이상인 픽셀의 위치 확인\n",
        "    IsGreaterThanEqualTo_PointOne = y_true >= 0.1\n",
        "    \n",
        "    # 실제 값에 결측값이 없는 픽셀의 위치 확인 \n",
        "    IsNotMissing = y_true >= 0\n",
        "    \n",
        "    # mae 계산\n",
        "    mae = np.mean(np.abs(y_true[IsGreaterThanEqualTo_PointOne] - y_pred[IsGreaterThanEqualTo_PointOne]))\n",
        "    \n",
        "    # f1_score 계산 위해, 실제값에 결측값이 없는 픽셀에 대해 1과 0으로 값 변환\n",
        "    y_true = np.where(y_true[IsNotMissing] >= 0.1, 1, 0)\n",
        "    \n",
        "    y_pred = np.where(y_pred[IsNotMissing] >= 0.1, 1, 0)\n",
        "    \n",
        "    # f1_score 계산    \n",
        "    f_score = f1_score(y_true, y_pred) \n",
        "    \n",
        "    # f1_score가 0일 나올 경우를 대비하여 소량의 값 (1e-07) 추가 \n",
        "    return mae / (f_score + 1e-07) "
      ],
      "execution_count": 0,
      "outputs": []
    },
    {
      "cell_type": "markdown",
      "metadata": {
        "id": "yZ-pJu40YLcB",
        "colab_type": "text"
      },
      "source": [
        "#모델 만들기"
      ]
    },
    {
      "cell_type": "code",
      "metadata": {
        "id": "GyKTm8UKNxQl",
        "colab_type": "code",
        "colab": {}
      },
      "source": [
        "def build_model(x):\n",
        "   \n",
        "    input_layer = Input((40, 40, 10))\n",
        "    ########################################\n",
        "    batch = BatchNormalization()(input_layer)\n",
        "    conv1 = Conv2D(x, (1,1), strides= 1, padding = 'same', activation = 'relu')(batch)\n",
        "    batch = BatchNormalization()(conv1)\n",
        "    conv2 = Conv2D(x/2, (2,2), strides= 1, padding = 'same', activation = 'relu' )(batch)\n",
        "    concat = concatenate([conv1, conv2], axis= 3)\n",
        "    ########################################\n",
        "    batch = BatchNormalization()(concat)\n",
        "    conv3 = Conv2D(x/4, (3,3), strides= 1, padding = 'same', activation = 'relu')(batch)\n",
        "    concat = concatenate([concat, conv3])\n",
        "    ########################################\n",
        "    batch = BatchNormalization()(concat)\n",
        "    conv4 = Conv2D(x/8, (3,3), strides= 1, padding = 'same', activation = 'relu' )(batch)\n",
        "    concat = concatenate([concat, conv4], axis= 3)\n",
        "    ########################################\n",
        "    batch = BatchNormalization()(concat)\n",
        "    conv5 = Conv2D(32, (3,3), strides= 1, padding = 'same', activation = 'relu' )(batch)\n",
        "    concat = concatenate([concat, conv5], axis= 3)\n",
        "    batch = BatchNormalization()(concat)\n",
        "    conv55 = Conv2D(x/8, (3,3), strides= 1, padding = 'same', activation = 'relu' )(batch)\n",
        "    concat = concatenate([concat, conv55], axis= 3)\n",
        "   ########################################\n",
        "    batch = BatchNormalization()(concat)\n",
        "    conv6 = Conv2D(32, (3,3), strides= 1, padding = 'same', activation = 'relu' )(batch)\n",
        "    concat = concatenate([concat, conv6], axis= 3)\n",
        "    ########################################\n",
        "    batch = BatchNormalization()(concat)\n",
        "    \n",
        "    output_layer = Conv2D(1, (1,1), strides= 1, padding= 'same', activation= 'relu')(batch)\n",
        "   \n",
        "    model = Model(input_layer,  output_layer)\n",
        "\n",
        "    return model"
      ],
      "execution_count": 0,
      "outputs": []
    },
    {
      "cell_type": "markdown",
      "metadata": {
        "id": "otaC7kkaYbw1",
        "colab_type": "text"
      },
      "source": [
        "# 데이터 늘리기 함수를 이용해 새로운data를 만들고  기존의 train data와 합치기"
      ]
    },
    {
      "cell_type": "markdown",
      "metadata": {
        "id": "fg4zUSiaY48B",
        "colab_type": "text"
      },
      "source": [
        "- data 늘리기"
      ]
    },
    {
      "cell_type": "code",
      "metadata": {
        "id": "dHb3HpVikOnS",
        "colab_type": "code",
        "colab": {}
      },
      "source": [
        "## 반시계 방향으로 90도 회전한 data\n",
        "x_90, y_90 = data_rotate90(x_train, y_train, 1)"
      ],
      "execution_count": 0,
      "outputs": []
    },
    {
      "cell_type": "code",
      "metadata": {
        "id": "qM9aWeodwtXK",
        "colab_type": "code",
        "colab": {}
      },
      "source": [
        "## 반시계 방향으로 180도 회전한 data\n",
        "x_180, y_180 = data_rotate90(x_90, y_90, 1)"
      ],
      "execution_count": 0,
      "outputs": []
    },
    {
      "cell_type": "code",
      "metadata": {
        "id": "Jg2gK003wuST",
        "colab_type": "code",
        "colab": {}
      },
      "source": [
        "##반시계 방향으로 270도 회전한 data\n",
        "x_270, y_270 = data_rotate90(x_180, y_180 ,1)"
      ],
      "execution_count": 0,
      "outputs": []
    },
    {
      "cell_type": "code",
      "metadata": {
        "id": "yFVI_yNownmQ",
        "colab_type": "code",
        "colab": {}
      },
      "source": [
        "##270도 회전한 data 뒤집기\n",
        "x_t270, y_t270 = data_transpose(x_270, y_270)\n",
        "\n",
        "##90도 회전한 data 뒤집기 (램 부족으로 추가 못함)\n",
        "#x_t90, y_t90 = data_transpose(x_90, y_90)\n",
        "\n",
        "##180도 회전한 data 뒤집기 (램 부족으로 추가 못함)\n",
        "#x_t180, y_t180 = data_transpose(x_180, y_180)"
      ],
      "execution_count": 0,
      "outputs": []
    },
    {
      "cell_type": "markdown",
      "metadata": {
        "id": "eWiWRV0MY2WG",
        "colab_type": "text"
      },
      "source": [
        "- data 합치기"
      ]
    },
    {
      "cell_type": "code",
      "metadata": {
        "id": "NjPQe2xwpJGi",
        "colab_type": "code",
        "colab": {}
      },
      "source": [
        "x_train = np.concatenate((x_train, x_90, x_180, x_270, x_t270))\n",
        "del x_90, x_180, x_270, x_t270"
      ],
      "execution_count": 0,
      "outputs": []
    },
    {
      "cell_type": "code",
      "metadata": {
        "id": "tAmj-RacioPA",
        "colab_type": "code",
        "colab": {}
      },
      "source": [
        "y_train = np.concatenate((y_train, y_90, y_180, y_270, y_t270))\n",
        "del y_90, y_180, y_270, y_t270"
      ],
      "execution_count": 0,
      "outputs": []
    },
    {
      "cell_type": "code",
      "metadata": {
        "id": "LTg160JaZAFb",
        "colab_type": "code",
        "colab": {}
      },
      "source": [
        "print('x_train: ', x_train.shape)\n",
        "print('y_train: ', y_train.shape)"
      ],
      "execution_count": 0,
      "outputs": []
    },
    {
      "cell_type": "markdown",
      "metadata": {
        "id": "7-GQWoDxZYbW",
        "colab_type": "text"
      },
      "source": [
        "#Ensemble 앙상블로 정확도 올리기"
      ]
    },
    {
      "cell_type": "code",
      "metadata": {
        "id": "IeErQtbxJwKh",
        "colab_type": "code",
        "colab": {}
      },
      "source": [
        "models = []\n",
        "num_models = 3\n",
        "x=1024\n",
        "t =2;\n",
        "for i in range(num_models):\n",
        "    models.append(build_model(x/t))\n",
        "    t = t*2"
      ],
      "execution_count": 0,
      "outputs": []
    },
    {
      "cell_type": "code",
      "metadata": {
        "id": "CS3GxPGTZtNg",
        "colab_type": "code",
        "colab": {}
      },
      "source": [
        "#models[1].summary()"
      ],
      "execution_count": 0,
      "outputs": []
    },
    {
      "cell_type": "markdown",
      "metadata": {
        "id": "oyrJvIRmZuwK",
        "colab_type": "text"
      },
      "source": [
        "- 모델 별로 학습시키고 학습된 모델 저장하기"
      ]
    },
    {
      "cell_type": "code",
      "metadata": {
        "id": "TDJH8C3KOkax",
        "colab_type": "code",
        "colab": {}
      },
      "source": [
        "m = 0\n",
        "for model in models:\n",
        "    model.compile(loss=\"mae\", optimizer=\"adam\", metrics=[maeOverFscore_keras, fscore_keras])\n",
        "    model.fit(x_train, y_train, epochs= 30, batch_size = 64)\n",
        "\n",
        "    "
      ],
      "execution_count": 0,
      "outputs": []
    },
    {
      "cell_type": "markdown",
      "metadata": {
        "id": "rEBDPlQEZ3cO",
        "colab_type": "text"
      },
      "source": [
        "- 학습된 모델 불러와서 모델 평가하기\n",
        "- 이때 세 모델의 값의 평균을 사용함"
      ]
    },
    {
      "cell_type": "code",
      "metadata": {
        "id": "LqnIMDMSVBmZ",
        "colab_type": "code",
        "colab": {}
      },
      "source": [
        "pred = []\n",
        "m = 0\n",
        "for model in models:\n",
        "    pred.append(model.predict(x_test))\n",
        "    print(mae_over_fscore(y_test, pred[m]))\n",
        "    m = m + 1\n",
        "prediction= models[0].predict(test)\n"
      ],
      "execution_count": 0,
      "outputs": []
    },
    {
      "cell_type": "markdown",
      "metadata": {
        "id": "_ON9EoEb1aJW",
        "colab_type": "text"
      },
      "source": [
        "#Submission"
      ]
    },
    {
      "cell_type": "code",
      "metadata": {
        "id": "bXgi0RWqBpwc",
        "colab_type": "code",
        "colab": {}
      },
      "source": [
        "submission = pd.read_csv('/content/drive/My Drive/sample_submission.csv')"
      ],
      "execution_count": 0,
      "outputs": []
    },
    {
      "cell_type": "code",
      "metadata": {
        "id": "73NcRHg4_gBs",
        "colab_type": "code",
        "colab": {}
      },
      "source": [
        "submission.iloc[:,1:] = prediction.reshape(-1, 1600)"
      ],
      "execution_count": 0,
      "outputs": []
    },
    {
      "cell_type": "code",
      "metadata": {
        "id": "Jn6hrwo9Dzce",
        "colab_type": "code",
        "colab": {}
      },
      "source": [
        "submission.to_csv('/content/drive/My Drive/Dacon_submission3.csv', index= False)"
      ],
      "execution_count": 0,
      "outputs": []
    }
  ]
}

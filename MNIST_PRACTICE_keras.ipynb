{
  "nbformat": 4,
  "nbformat_minor": 0,
  "metadata": {
    "colab": {
      "name": "MNIST PRACTICE keras ",
      "provenance": [],
      "collapsed_sections": [],
      "authorship_tag": "ABX9TyOu0mjg0Hd4ZTl0ouaZZ/fk",
      "include_colab_link": true
    },
    "kernelspec": {
      "name": "python3",
      "display_name": "Python 3"
    },
    "accelerator": "GPU"
  },
  "cells": [
    {
      "cell_type": "markdown",
      "metadata": {
        "id": "view-in-github",
        "colab_type": "text"
      },
      "source": [
        "<a href=\"https://colab.research.google.com/github/chaeyoung97/google-CoLab/blob/master/MNIST_PRACTICE_keras.ipynb\" target=\"_parent\"><img src=\"https://colab.research.google.com/assets/colab-badge.svg\" alt=\"Open In Colab\"/></a>"
      ]
    },
    {
      "cell_type": "markdown",
      "metadata": {
        "id": "Bx0TexHJbUTG",
        "colab_type": "text"
      },
      "source": [
        "#MNIST DATASET 불러오기"
      ]
    },
    {
      "cell_type": "code",
      "metadata": {
        "id": "70ZPGGqdbXE5",
        "colab_type": "code",
        "outputId": "8fb71f22-dc77-4b37-938c-19aac9698bdb",
        "colab": {
          "base_uri": "https://localhost:8080/",
          "height": 87
        }
      },
      "source": [
        "from keras.datasets import mnist\n",
        "\n",
        "(x_train, y_train), (x_test, y_test) = mnist.load_data()\n",
        "print(\"x_train: \", x_train.shape)\n",
        "print(\"y_train: \", y_train.shape)\n",
        "print(\"x_text: \", x_test.shape)\n",
        "print(\"y_test: \",y_test.shape)"
      ],
      "execution_count": 125,
      "outputs": [
        {
          "output_type": "stream",
          "text": [
            "x_train:  (60000, 28, 28)\n",
            "y_train:  (60000,)\n",
            "x_text:  (10000, 28, 28)\n",
            "y_test:  (10000,)\n"
          ],
          "name": "stdout"
        }
      ]
    },
    {
      "cell_type": "markdown",
      "metadata": {
        "id": "5IiAeVuXbytT",
        "colab_type": "text"
      },
      "source": [
        "#DATA Visualization"
      ]
    },
    {
      "cell_type": "code",
      "metadata": {
        "id": "Alllx9Wvbr-A",
        "colab_type": "code",
        "outputId": "129acabb-58e8-483c-e3d8-6ea5825c6b93",
        "colab": {
          "base_uri": "https://localhost:8080/",
          "height": 300
        }
      },
      "source": [
        "import matplotlib.pyplot as plt\n",
        "%matplotlib inline\n",
        "\n",
        "print(\"Sample Data from the test set: \")\n",
        "#plt.imshow(x_test[9].reshape(28,28)) #컬러 출력\n",
        "plt.imshow(x_test[9].reshape(28,28), cmap=\"Greys\")  #cmap = \"Greys\"로 흑백 출력\n",
        "print(\"Lable: \", y_test[9])"
      ],
      "execution_count": 126,
      "outputs": [
        {
          "output_type": "stream",
          "text": [
            "Sample Data from the test set: \n",
            "Lable:  9\n"
          ],
          "name": "stdout"
        },
        {
          "output_type": "display_data",
          "data": {
            "image/png": "[encoded data removed]",
            "text/plain": [
              "<Figure size 432x288 with 1 Axes>"
            ]
          },
          "metadata": {
            "tags": [],
            "needs_background": "light"
          }
        }
      ]
    },
    {
      "cell_type": "markdown",
      "metadata": {
        "id": "T2o7qYdjepWj",
        "colab_type": "text"
      },
      "source": [
        "#DARA Preprocessing & DATA Normalization"
      ]
    },
    {
      "cell_type": "code",
      "metadata": {
        "id": "D1iBEAGGdh4q",
        "colab_type": "code",
        "colab": {}
      },
      "source": [
        "\n",
        "x_train = x_train.reshape(x_train.shape[0], 28, 28, 1)\n",
        "x_test = x_test.reshape(x_test.shape[0], 28, 28, 1)\n",
        "\n",
        "x_train = x_train.astype('float32')\n",
        "x_test = x_test.astype('float32')\n",
        "\n",
        "x_train /= 255\n",
        "x_test /= 255     # 0~1사이의 실수"
      ],
      "execution_count": 0,
      "outputs": []
    },
    {
      "cell_type": "markdown",
      "metadata": {
        "id": "YBhAi6MbgAaX",
        "colab_type": "text"
      },
      "source": [
        "#BUILDING THE CNN\n",
        "\n",
        "\n"
      ]
    },
    {
      "cell_type": "code",
      "metadata": {
        "id": "6LL6gzdcfGR4",
        "colab_type": "code",
        "colab": {}
      },
      "source": [
        "import tensorflow as tf\n",
        "from tensorflow import keras\n",
        "from tensorflow.keras import layers, models\n",
        "\n",
        "model = models.Sequential()"
      ],
      "execution_count": 0,
      "outputs": []
    },
    {
      "cell_type": "code",
      "metadata": {
        "id": "dndlOSJTgwaP",
        "colab_type": "code",
        "colab": {}
      },
      "source": [
        "###Convolultion###\n",
        "#32 : convolution 필터 수\n",
        "#(3,3) : convolution 커널(행, 열)\n",
        "#input_shape : 입력형태 (모델의 첫 레이어에서만 정의하면 됨 나머지 레이어는 그 전 레이어의 output이 input으로 들어와서 input_shape정할 필요 없음) \n",
        "\n",
        "###activation function###\n",
        "#relu : hidden layer에 주로 사용 (avoid negative value)\n",
        "#sigmoid : 이진 분류 문제에서 output layer에 주로 사용\n",
        "#softmax : 다중 클래스 분류에서 output layer에 주로 사용\n",
        "\n",
        "\n",
        "\n",
        "model.add(layers.Convolution2D(32, (3,3), input_shape= (28, 28, 1), activation = \"relu\"))\n",
        "model.add(layers.MaxPooling2D(pool_size = (2,2)))\n",
        "model.add(layers.Convolution2D(64, (3,3), activation='relu'))\n",
        "model.add(layers.MaxPooling2D((2,2)))\n",
        "\n",
        "model.add(layers.Flatten())\n",
        "model.add(layers.Dense(256, activation='relu'))\n",
        "model.add(layers.Dense(64,  activation='relu'))\n",
        "model.add(layers.Dense(10,  activation='sigmoid'))"
      ],
      "execution_count": 0,
      "outputs": []
    },
    {
      "cell_type": "code",
      "metadata": {
        "id": "WTDvOM5Brggv",
        "colab_type": "code",
        "colab": {}
      },
      "source": [
        "#metrics : 모델 평가 지표\n",
        "#loss : loss  function  여기선 다중 클래스 문제이므로 categorical_crossentropy사용함\n",
        "#optimizer : 최적의 가중치를 찾는데 사용되는 최적화 알고리즘 (경사 하강법 알고리즘 중 하나인 adam사용)\n",
        "model.compile(optimizer ='adam', loss = 'sparse_categorical_crossentropy', metrics = ['accuracy'])"
      ],
      "execution_count": 0,
      "outputs": []
    },
    {
      "cell_type": "code",
      "metadata": {
        "id": "gOZy9zSvhZoD",
        "colab_type": "code",
        "outputId": "0faaa333-d764-4b74-e8da-5a51361127e2",
        "colab": {
          "base_uri": "https://localhost:8080/",
          "height": 439
        }
      },
      "source": [
        "model.summary()"
      ],
      "execution_count": 131,
      "outputs": [
        {
          "output_type": "stream",
          "text": [
            "Model: \"sequential_14\"\n",
            "_________________________________________________________________\n",
            "Layer (type)                 Output Shape              Param #   \n",
            "=================================================================\n",
            "conv2d_39 (Conv2D)           (None, 26, 26, 32)        320       \n",
            "_________________________________________________________________\n",
            "max_pooling2d_19 (MaxPooling (None, 13, 13, 32)        0         \n",
            "_________________________________________________________________\n",
            "conv2d_40 (Conv2D)           (None, 11, 11, 64)        18496     \n",
            "_________________________________________________________________\n",
            "max_pooling2d_20 (MaxPooling (None, 5, 5, 64)          0         \n",
            "_________________________________________________________________\n",
            "flatten_6 (Flatten)          (None, 1600)              0         \n",
            "_________________________________________________________________\n",
            "dense_15 (Dense)             (None, 256)               409856    \n",
            "_________________________________________________________________\n",
            "dense_16 (Dense)             (None, 64)                16448     \n",
            "_________________________________________________________________\n",
            "dense_17 (Dense)             (None, 10)                650       \n",
            "=================================================================\n",
            "Total params: 445,770\n",
            "Trainable params: 445,770\n",
            "Non-trainable params: 0\n",
            "_________________________________________________________________\n"
          ],
          "name": "stdout"
        }
      ]
    },
    {
      "cell_type": "code",
      "metadata": {
        "id": "SI0OZE-TqhpF",
        "colab_type": "code",
        "colab": {
          "base_uri": "https://localhost:8080/",
          "height": 856
        },
        "outputId": "d5623db9-85f7-444f-bd36-239161819f5b"
      },
      "source": [
        "from IPython.display import SVG\n",
        "from tensorflow.keras.utils import plot_model\n",
        "\n",
        "plot_model(model, to_file='model.png')"
      ],
      "execution_count": 135,
      "outputs": [
        {
          "output_type": "execute_result",
          "data": {
            "image/png": "[encoded data removed]",
            "text/plain": [
              "<IPython.core.display.Image object>"
            ]
          },
          "metadata": {
            "tags": []
          },
          "execution_count": 135
        }
      ]
    },
    {
      "cell_type": "code",
      "metadata": {
        "id": "8zv61nCMyjdB",
        "colab_type": "code",
        "colab": {
          "base_uri": "https://localhost:8080/",
          "height": 406
        },
        "outputId": "3f3646f6-8f92-4c36-bb15-06afade49b9c"
      },
      "source": [
        "#epochs : iteration\n",
        "model.fit(x = x_train, y = y_train, epochs =10)"
      ],
      "execution_count": 142,
      "outputs": [
        {
          "output_type": "stream",
          "text": [
            "Epoch 1/10\n",
            "1875/1875 [==============================] - 5s 3ms/step - loss: 0.1412 - accuracy: 0.9556\n",
            "Epoch 2/10\n",
            "1875/1875 [==============================] - 5s 3ms/step - loss: 0.0474 - accuracy: 0.9856\n",
            "Epoch 3/10\n",
            "1875/1875 [==============================] - 5s 3ms/step - loss: 0.0334 - accuracy: 0.9896\n",
            "Epoch 4/10\n",
            "1875/1875 [==============================] - 5s 3ms/step - loss: 0.0245 - accuracy: 0.9925\n",
            "Epoch 5/10\n",
            "1875/1875 [==============================] - 5s 3ms/step - loss: 0.0192 - accuracy: 0.9935\n",
            "Epoch 6/10\n",
            "1875/1875 [==============================] - 5s 3ms/step - loss: 0.0143 - accuracy: 0.9951\n",
            "Epoch 7/10\n",
            "1875/1875 [==============================] - 5s 3ms/step - loss: 0.0125 - accuracy: 0.9961\n",
            "Epoch 8/10\n",
            "1875/1875 [==============================] - 5s 3ms/step - loss: 0.0105 - accuracy: 0.9967\n",
            "Epoch 9/10\n",
            "1875/1875 [==============================] - 5s 3ms/step - loss: 0.0094 - accuracy: 0.9971\n",
            "Epoch 10/10\n",
            "1875/1875 [==============================] - 5s 3ms/step - loss: 0.0089 - accuracy: 0.9972\n"
          ],
          "name": "stdout"
        },
        {
          "output_type": "execute_result",
          "data": {
            "text/plain": [
              "<tensorflow.python.keras.callbacks.History at 0x7f2a2229aba8>"
            ]
          },
          "metadata": {
            "tags": []
          },
          "execution_count": 142
        }
      ]
    },
    {
      "cell_type": "code",
      "metadata": {
        "id": "Wh5KcxqSzLTw",
        "colab_type": "code",
        "colab": {
          "base_uri": "https://localhost:8080/",
          "height": 52
        },
        "outputId": "1ae1e165-acc5-4c4d-f352-7d421e6c6a53"
      },
      "source": [
        "#Evaluating the classifier\n",
        "test_loss, test_accuracy = model.evaluate(x_test, y_test)\n",
        "print(\"test accuracy: \",test_accuracy)"
      ],
      "execution_count": 147,
      "outputs": [
        {
          "output_type": "stream",
          "text": [
            "313/313 [==============================] - 1s 2ms/step - loss: 0.0354 - accuracy: 0.9921\n",
            "test accuracy:  0.9921000003814697\n"
          ],
          "name": "stdout"
        }
      ]
    },
    {
      "cell_type": "code",
      "metadata": {
        "id": "Zc40hmbCtHq8",
        "colab_type": "code",
        "colab": {
          "base_uri": "https://localhost:8080/",
          "height": 54
        },
        "outputId": "646a93ff-c76e-4f9e-abe6-271910d60e92"
      },
      "source": [
        "'''\n",
        "from IPython.display import SVG\n",
        "from keras.utils.vis_utils import model_to_dot\n",
        "\n",
        "SVG(model_to_dot(model, show_shapes = True).create(prog='dot', format='svg'))\n",
        "\n",
        "CNN 모델을 좀 더 보기 편하게 가시화하는 코드인데 일단 현재는 에러뜸 \n",
        "'''"
      ],
      "execution_count": 154,
      "outputs": [
        {
          "output_type": "execute_result",
          "data": {
            "text/plain": [
              "\"\\nfrom IPython.display import SVG\\nfrom keras.utils.vis_utils import model_to_dot\\n\\nSVG(model_to_dot(model, show_shapes = True).create(prog='dot', format='svg'))\\n\\nCNN 모델을 좀 더 보기 편하게 가시화하는 코드인데 일단 현재는 에러뜸 \\n\""
            ]
          },
          "metadata": {
            "tags": []
          },
          "execution_count": 154
        }
      ]
    },
    {
      "cell_type": "code",
      "metadata": {
        "id": "YuBDfrqbwCjz",
        "colab_type": "code",
        "colab": {}
      },
      "source": [
        ""
      ],
      "execution_count": 0,
      "outputs": []
    }
  ]
}